{
 "cells": [
  {
   "cell_type": "markdown",
   "metadata": {},
   "source": [
    "## Stock Market API Project"
   ]
  },
  {
   "cell_type": "code",
   "execution_count": 2,
   "metadata": {},
   "outputs": [
    {
     "name": "stdout",
     "output_type": "stream",
     "text": [
      "Collecting python-dotenv\n",
      "  Downloading python_dotenv-1.0.1-py3-none-any.whl.metadata (23 kB)\n",
      "Requirement already satisfied: plotly in c:\\advance python\\repository\\venv\\lib\\site-packages (5.24.1)\n",
      "Requirement already satisfied: nbformat in c:\\advance python\\repository\\venv\\lib\\site-packages (5.10.4)\n",
      "Requirement already satisfied: tenacity>=6.2.0 in c:\\advance python\\repository\\venv\\lib\\site-packages (from plotly) (8.5.0)\n",
      "Requirement already satisfied: packaging in c:\\advance python\\repository\\venv\\lib\\site-packages (from plotly) (24.1)\n",
      "Requirement already satisfied: fastjsonschema>=2.15 in c:\\advance python\\repository\\venv\\lib\\site-packages (from nbformat) (2.20.0)\n",
      "Requirement already satisfied: jsonschema>=2.6 in c:\\advance python\\repository\\venv\\lib\\site-packages (from nbformat) (4.23.0)\n",
      "Requirement already satisfied: jupyter-core!=5.0.*,>=4.12 in c:\\advance python\\repository\\venv\\lib\\site-packages (from nbformat) (5.7.2)\n",
      "Requirement already satisfied: traitlets>=5.1 in c:\\advance python\\repository\\venv\\lib\\site-packages (from nbformat) (5.14.3)\n",
      "Requirement already satisfied: attrs>=22.2.0 in c:\\advance python\\repository\\venv\\lib\\site-packages (from jsonschema>=2.6->nbformat) (24.2.0)\n",
      "Requirement already satisfied: jsonschema-specifications>=2023.03.6 in c:\\advance python\\repository\\venv\\lib\\site-packages (from jsonschema>=2.6->nbformat) (2023.12.1)\n",
      "Requirement already satisfied: referencing>=0.28.4 in c:\\advance python\\repository\\venv\\lib\\site-packages (from jsonschema>=2.6->nbformat) (0.35.1)\n",
      "Requirement already satisfied: rpds-py>=0.7.1 in c:\\advance python\\repository\\venv\\lib\\site-packages (from jsonschema>=2.6->nbformat) (0.20.0)\n",
      "Requirement already satisfied: platformdirs>=2.5 in c:\\advance python\\repository\\venv\\lib\\site-packages (from jupyter-core!=5.0.*,>=4.12->nbformat) (4.3.6)\n",
      "Requirement already satisfied: pywin32>=300 in c:\\advance python\\repository\\venv\\lib\\site-packages (from jupyter-core!=5.0.*,>=4.12->nbformat) (306)\n",
      "Downloading python_dotenv-1.0.1-py3-none-any.whl (19 kB)\n",
      "Installing collected packages: python-dotenv\n",
      "Successfully installed python-dotenv-1.0.1\n",
      "Note: you may need to restart the kernel to use updated packages.\n"
     ]
    },
    {
     "name": "stderr",
     "output_type": "stream",
     "text": [
      "\n",
      "[notice] A new release of pip is available: 24.2 -> 24.3.1\n",
      "[notice] To update, run: python.exe -m pip install --upgrade pip\n"
     ]
    }
   ],
   "source": [
    "%pip install python-dotenv plotly nbformat"
   ]
  },
  {
   "cell_type": "code",
   "execution_count": 3,
   "metadata": {},
   "outputs": [
    {
     "data": {
      "text/plain": [
       "True"
      ]
     },
     "execution_count": 3,
     "metadata": {},
     "output_type": "execute_result"
    }
   ],
   "source": [
    "from dotenv import load_dotenv\n",
    "load_dotenv()"
   ]
  },
  {
   "cell_type": "code",
   "execution_count": 6,
   "metadata": {},
   "outputs": [],
   "source": [
    "import os \n",
    "api_key = os.getenv(\"API_KEY\")\n"
   ]
  },
  {
   "cell_type": "code",
   "execution_count": 28,
   "metadata": {},
   "outputs": [],
   "source": [
    "import requests\n",
    "\n",
    "url = \"https://alpha-vantage.p.rapidapi.com/query\"\n",
    "\n",
    "querystring = {\"datatype\":\"json\",\"keywords\":\"State Bank of India\",\"function\":\"SYMBOL_SEARCH\"}\n",
    "\n",
    "headers = {\n",
    "\t\"x-rapidapi-key\": api_key,\n",
    "\t\"x-rapidapi-host\": \"alpha-vantage.p.rapidapi.com\"\n",
    "}\n",
    "\n",
    "response = requests.get(url, headers=headers, params=querystring)\n",
    "\n",
    "data = response.json()"
   ]
  },
  {
   "cell_type": "code",
   "execution_count": 11,
   "metadata": {},
   "outputs": [
    {
     "data": {
      "text/plain": [
       "{'bestMatches': [{'1. symbol': 'SBIN.BSE',\n",
       "   '2. name': 'State Bank of India',\n",
       "   '3. type': 'Equity',\n",
       "   '4. region': 'India/Bombay',\n",
       "   '5. marketOpen': '09:15',\n",
       "   '6. marketClose': '15:30',\n",
       "   '7. timezone': 'UTC+5.5',\n",
       "   '8. currency': 'INR',\n",
       "   '9. matchScore': '1.0000'},\n",
       "  {'1. symbol': 'SBKFF',\n",
       "   '2. name': 'State Bank of India',\n",
       "   '3. type': 'Equity',\n",
       "   '4. region': 'United States',\n",
       "   '5. marketOpen': '09:30',\n",
       "   '6. marketClose': '16:00',\n",
       "   '7. timezone': 'UTC-04',\n",
       "   '8. currency': 'USD',\n",
       "   '9. matchScore': '1.0000'},\n",
       "  {'1. symbol': 'SID.FRK',\n",
       "   '2. name': 'State Bank of India',\n",
       "   '3. type': 'Equity',\n",
       "   '4. region': 'Frankfurt',\n",
       "   '5. marketOpen': '08:00',\n",
       "   '6. marketClose': '20:00',\n",
       "   '7. timezone': 'UTC+02',\n",
       "   '8. currency': 'EUR',\n",
       "   '9. matchScore': '1.0000'},\n",
       "  {'1. symbol': 'SBID.LON',\n",
       "   '2. name': 'State Bank of India GDR',\n",
       "   '3. type': 'Equity',\n",
       "   '4. region': 'United Kingdom',\n",
       "   '5. marketOpen': '08:00',\n",
       "   '6. marketClose': '16:30',\n",
       "   '7. timezone': 'UTC+01',\n",
       "   '8. currency': 'USD',\n",
       "   '9. matchScore': '0.9048'}]}"
      ]
     },
     "execution_count": 11,
     "metadata": {},
     "output_type": "execute_result"
    }
   ],
   "source": [
    "data"
   ]
  },
  {
   "cell_type": "code",
   "execution_count": 12,
   "metadata": {},
   "outputs": [
    {
     "data": {
      "text/plain": [
       "dict_keys(['bestMatches'])"
      ]
     },
     "execution_count": 12,
     "metadata": {},
     "output_type": "execute_result"
    }
   ],
   "source": [
    "data.keys()"
   ]
  },
  {
   "cell_type": "code",
   "execution_count": 13,
   "metadata": {},
   "outputs": [],
   "source": [
    "matches = data[\"bestMatches\"]"
   ]
  },
  {
   "cell_type": "code",
   "execution_count": 14,
   "metadata": {},
   "outputs": [
    {
     "data": {
      "text/html": [
       "<div>\n",
       "<style scoped>\n",
       "    .dataframe tbody tr th:only-of-type {\n",
       "        vertical-align: middle;\n",
       "    }\n",
       "\n",
       "    .dataframe tbody tr th {\n",
       "        vertical-align: top;\n",
       "    }\n",
       "\n",
       "    .dataframe thead th {\n",
       "        text-align: right;\n",
       "    }\n",
       "</style>\n",
       "<table border=\"1\" class=\"dataframe\">\n",
       "  <thead>\n",
       "    <tr style=\"text-align: right;\">\n",
       "      <th></th>\n",
       "      <th>1. symbol</th>\n",
       "      <th>2. name</th>\n",
       "      <th>3. type</th>\n",
       "      <th>4. region</th>\n",
       "      <th>5. marketOpen</th>\n",
       "      <th>6. marketClose</th>\n",
       "      <th>7. timezone</th>\n",
       "      <th>8. currency</th>\n",
       "      <th>9. matchScore</th>\n",
       "    </tr>\n",
       "  </thead>\n",
       "  <tbody>\n",
       "    <tr>\n",
       "      <th>0</th>\n",
       "      <td>SBIN.BSE</td>\n",
       "      <td>State Bank of India</td>\n",
       "      <td>Equity</td>\n",
       "      <td>India/Bombay</td>\n",
       "      <td>09:15</td>\n",
       "      <td>15:30</td>\n",
       "      <td>UTC+5.5</td>\n",
       "      <td>INR</td>\n",
       "      <td>1.0000</td>\n",
       "    </tr>\n",
       "    <tr>\n",
       "      <th>1</th>\n",
       "      <td>SBKFF</td>\n",
       "      <td>State Bank of India</td>\n",
       "      <td>Equity</td>\n",
       "      <td>United States</td>\n",
       "      <td>09:30</td>\n",
       "      <td>16:00</td>\n",
       "      <td>UTC-04</td>\n",
       "      <td>USD</td>\n",
       "      <td>1.0000</td>\n",
       "    </tr>\n",
       "    <tr>\n",
       "      <th>2</th>\n",
       "      <td>SID.FRK</td>\n",
       "      <td>State Bank of India</td>\n",
       "      <td>Equity</td>\n",
       "      <td>Frankfurt</td>\n",
       "      <td>08:00</td>\n",
       "      <td>20:00</td>\n",
       "      <td>UTC+02</td>\n",
       "      <td>EUR</td>\n",
       "      <td>1.0000</td>\n",
       "    </tr>\n",
       "    <tr>\n",
       "      <th>3</th>\n",
       "      <td>SBID.LON</td>\n",
       "      <td>State Bank of India GDR</td>\n",
       "      <td>Equity</td>\n",
       "      <td>United Kingdom</td>\n",
       "      <td>08:00</td>\n",
       "      <td>16:30</td>\n",
       "      <td>UTC+01</td>\n",
       "      <td>USD</td>\n",
       "      <td>0.9048</td>\n",
       "    </tr>\n",
       "  </tbody>\n",
       "</table>\n",
       "</div>"
      ],
      "text/plain": [
       "  1. symbol                  2. name 3. type       4. region 5. marketOpen  \\\n",
       "0  SBIN.BSE      State Bank of India  Equity    India/Bombay         09:15   \n",
       "1     SBKFF      State Bank of India  Equity   United States         09:30   \n",
       "2   SID.FRK      State Bank of India  Equity       Frankfurt         08:00   \n",
       "3  SBID.LON  State Bank of India GDR  Equity  United Kingdom         08:00   \n",
       "\n",
       "  6. marketClose 7. timezone 8. currency 9. matchScore  \n",
       "0          15:30     UTC+5.5         INR        1.0000  \n",
       "1          16:00      UTC-04         USD        1.0000  \n",
       "2          20:00      UTC+02         EUR        1.0000  \n",
       "3          16:30      UTC+01         USD        0.9048  "
      ]
     },
     "execution_count": 14,
     "metadata": {},
     "output_type": "execute_result"
    }
   ],
   "source": [
    "import pandas as pd\n",
    "symbols = pd.DataFrame(matches)\n",
    "symbols"
   ]
  },
  {
   "cell_type": "markdown",
   "metadata": {},
   "source": [
    "### State bank of India symbol in India is SBIN.BSE"
   ]
  },
  {
   "cell_type": "code",
   "execution_count": 29,
   "metadata": {},
   "outputs": [],
   "source": [
    "import requests\n",
    "\n",
    "url = \"https://alpha-vantage.p.rapidapi.com/query\"\n",
    "\n",
    "querystring = {\"function\":\"TIME_SERIES_DAILY\",\"symbol\":\"MSFT\",\"outputsize\":\"compact\",\"datatype\":\"json\"}\n",
    "\n",
    "headers = {\n",
    "\t\"x-rapidapi-key\": api_key,\n",
    "\t\"x-rapidapi-host\": \"alpha-vantage.p.rapidapi.com\"\n",
    "}\n",
    "\n",
    "response = requests.get(url, headers=headers, params=querystring)\n",
    "\n",
    "data2 = response.json()"
   ]
  },
  {
   "cell_type": "code",
   "execution_count": 16,
   "metadata": {},
   "outputs": [
    {
     "data": {
      "text/plain": [
       "{'Meta Data': {'1. Information': 'Daily Prices (open, high, low, close) and Volumes',\n",
       "  '2. Symbol': 'MSFT',\n",
       "  '3. Last Refreshed': '2024-11-14',\n",
       "  '4. Output Size': 'Compact',\n",
       "  '5. Time Zone': 'US/Eastern'},\n",
       " 'Time Series (Daily)': {'2024-11-14': {'1. open': '425.0000',\n",
       "   '2. high': '428.1700',\n",
       "   '3. low': '420.0000',\n",
       "   '4. close': '426.8900',\n",
       "   '5. volume': '30246881'},\n",
       "  '2024-11-13': {'1. open': '421.6400',\n",
       "   '2. high': '429.3250',\n",
       "   '3. low': '418.2100',\n",
       "   '4. close': '425.2000',\n",
       "   '5. volume': '21502185'},\n",
       "  '2024-11-12': {'1. open': '418.2500',\n",
       "   '2. high': '424.4400',\n",
       "   '3. low': '417.2000',\n",
       "   '4. close': '423.0300',\n",
       "   '5. volume': '19401204'},\n",
       "  '2024-11-11': {'1. open': '422.5150',\n",
       "   '2. high': '424.8100',\n",
       "   '3. low': '416.0000',\n",
       "   '4. close': '418.0100',\n",
       "   '5. volume': '24503321'},\n",
       "  '2024-11-08': {'1. open': '425.3200',\n",
       "   '2. high': '426.5000',\n",
       "   '3. low': '421.7800',\n",
       "   '4. close': '422.5400',\n",
       "   '5. volume': '16891414'},\n",
       "  '2024-11-07': {'1. open': '421.2800',\n",
       "   '2. high': '426.8500',\n",
       "   '3. low': '419.8800',\n",
       "   '4. close': '425.4300',\n",
       "   '5. volume': '19901782'},\n",
       "  '2024-11-06': {'1. open': '412.4200',\n",
       "   '2. high': '420.4500',\n",
       "   '3. low': '410.5200',\n",
       "   '4. close': '420.1800',\n",
       "   '5. volume': '26681842'},\n",
       "  '2024-11-05': {'1. open': '408.3700',\n",
       "   '2. high': '414.9000',\n",
       "   '3. low': '408.0800',\n",
       "   '4. close': '411.4600',\n",
       "   '5. volume': '17626011'},\n",
       "  '2024-11-04': {'1. open': '409.8000',\n",
       "   '2. high': '410.4150',\n",
       "   '3. low': '405.5713',\n",
       "   '4. close': '408.4600',\n",
       "   '5. volume': '19672286'},\n",
       "  '2024-11-01': {'1. open': '409.0100',\n",
       "   '2. high': '415.5000',\n",
       "   '3. low': '407.5000',\n",
       "   '4. close': '410.3700',\n",
       "   '5. volume': '24230442'},\n",
       "  '2024-10-31': {'1. open': '415.3600',\n",
       "   '2. high': '416.1600',\n",
       "   '3. low': '406.3000',\n",
       "   '4. close': '406.3500',\n",
       "   '5. volume': '53970981'},\n",
       "  '2024-10-30': {'1. open': '437.4350',\n",
       "   '2. high': '438.5000',\n",
       "   '3. low': '432.1000',\n",
       "   '4. close': '432.5300',\n",
       "   '5. volume': '29749149'},\n",
       "  '2024-10-29': {'1. open': '428.0000',\n",
       "   '2. high': '433.1700',\n",
       "   '3. low': '425.8001',\n",
       "   '4. close': '431.9500',\n",
       "   '5. volume': '17644080'},\n",
       "  '2024-10-28': {'1. open': '431.6550',\n",
       "   '2. high': '431.9400',\n",
       "   '3. low': '426.3000',\n",
       "   '4. close': '426.5900',\n",
       "   '5. volume': '14882444'},\n",
       "  '2024-10-25': {'1. open': '426.7600',\n",
       "   '2. high': '432.5200',\n",
       "   '3. low': '426.5650',\n",
       "   '4. close': '428.1500',\n",
       "   '5. volume': '16899064'},\n",
       "  '2024-10-24': {'1. open': '425.3250',\n",
       "   '2. high': '425.9782',\n",
       "   '3. low': '422.4000',\n",
       "   '4. close': '424.7300',\n",
       "   '5. volume': '13581631'},\n",
       "  '2024-10-23': {'1. open': '430.8550',\n",
       "   '2. high': '431.0800',\n",
       "   '3. low': '422.5300',\n",
       "   '4. close': '424.6000',\n",
       "   '5. volume': '19654379'},\n",
       "  '2024-10-22': {'1. open': '418.4900',\n",
       "   '2. high': '430.5793',\n",
       "   '3. low': '418.0400',\n",
       "   '4. close': '427.5100',\n",
       "   '5. volume': '25482197'},\n",
       "  '2024-10-21': {'1. open': '416.1200',\n",
       "   '2. high': '418.9600',\n",
       "   '3. low': '413.7501',\n",
       "   '4. close': '418.7800',\n",
       "   '5. volume': '14206115'},\n",
       "  '2024-10-18': {'1. open': '417.1400',\n",
       "   '2. high': '419.6500',\n",
       "   '3. low': '416.2601',\n",
       "   '4. close': '418.1600',\n",
       "   '5. volume': '17145317'},\n",
       "  '2024-10-17': {'1. open': '422.3600',\n",
       "   '2. high': '422.5000',\n",
       "   '3. low': '415.5900',\n",
       "   '4. close': '416.7200',\n",
       "   '5. volume': '14820004'},\n",
       "  '2024-10-16': {'1. open': '415.1700',\n",
       "   '2. high': '416.3600',\n",
       "   '3. low': '410.4800',\n",
       "   '4. close': '416.1200',\n",
       "   '5. volume': '15508932'},\n",
       "  '2024-10-15': {'1. open': '422.1800',\n",
       "   '2. high': '422.4800',\n",
       "   '3. low': '415.2600',\n",
       "   '4. close': '418.7400',\n",
       "   '5. volume': '18900201'},\n",
       "  '2024-10-14': {'1. open': '417.7700',\n",
       "   '2. high': '424.0400',\n",
       "   '3. low': '417.5200',\n",
       "   '4. close': '419.1400',\n",
       "   '5. volume': '16653086'},\n",
       "  '2024-10-11': {'1. open': '416.1350',\n",
       "   '2. high': '417.1300',\n",
       "   '3. low': '413.2500',\n",
       "   '4. close': '416.3200',\n",
       "   '5. volume': '14144944'},\n",
       "  '2024-10-10': {'1. open': '415.2250',\n",
       "   '2. high': '417.3500',\n",
       "   '3. low': '413.1500',\n",
       "   '4. close': '415.8400',\n",
       "   '5. volume': '13848376'},\n",
       "  '2024-10-09': {'1. open': '415.8600',\n",
       "   '2. high': '420.3800',\n",
       "   '3. low': '414.3000',\n",
       "   '4. close': '417.4600',\n",
       "   '5. volume': '14974257'},\n",
       "  '2024-10-08': {'1. open': '410.9000',\n",
       "   '2. high': '415.6600',\n",
       "   '3. low': '408.1700',\n",
       "   '4. close': '414.7100',\n",
       "   '5. volume': '19229261'},\n",
       "  '2024-10-07': {'1. open': '416.0000',\n",
       "   '2. high': '417.1100',\n",
       "   '3. low': '409.0000',\n",
       "   '4. close': '409.5400',\n",
       "   '5. volume': '20919761'},\n",
       "  '2024-10-04': {'1. open': '418.2400',\n",
       "   '2. high': '419.7500',\n",
       "   '3. low': '414.9700',\n",
       "   '4. close': '416.0600',\n",
       "   '5. volume': '19190913'},\n",
       "  '2024-10-03': {'1. open': '417.6300',\n",
       "   '2. high': '419.5500',\n",
       "   '3. low': '414.2900',\n",
       "   '4. close': '416.5400',\n",
       "   '5. volume': '13686421'},\n",
       "  '2024-10-02': {'1. open': '422.5800',\n",
       "   '2. high': '422.8200',\n",
       "   '3. low': '416.7100',\n",
       "   '4. close': '417.1300',\n",
       "   '5. volume': '16582257'},\n",
       "  '2024-10-01': {'1. open': '428.4500',\n",
       "   '2. high': '428.4800',\n",
       "   '3. low': '418.8100',\n",
       "   '4. close': '420.6900',\n",
       "   '5. volume': '19092945'},\n",
       "  '2024-09-30': {'1. open': '428.2100',\n",
       "   '2. high': '430.4200',\n",
       "   '3. low': '425.3700',\n",
       "   '4. close': '430.3000',\n",
       "   '5. volume': '16854606'},\n",
       "  '2024-09-27': {'1. open': '431.5200',\n",
       "   '2. high': '431.8500',\n",
       "   '3. low': '427.4700',\n",
       "   '4. close': '428.0200',\n",
       "   '5. volume': '14896131'},\n",
       "  '2024-09-26': {'1. open': '435.0850',\n",
       "   '2. high': '435.3000',\n",
       "   '3. low': '429.1300',\n",
       "   '4. close': '431.3100',\n",
       "   '5. volume': '14492044'},\n",
       "  '2024-09-25': {'1. open': '429.8300',\n",
       "   '2. high': '433.1190',\n",
       "   '3. low': '428.5700',\n",
       "   '4. close': '432.1100',\n",
       "   '5. volume': '13396364'},\n",
       "  '2024-09-24': {'1. open': '433.0000',\n",
       "   '2. high': '433.3500',\n",
       "   '3. low': '426.1000',\n",
       "   '4. close': '429.1700',\n",
       "   '5. volume': '17015754'},\n",
       "  '2024-09-23': {'1. open': '434.2800',\n",
       "   '2. high': '436.4600',\n",
       "   '3. low': '430.3889',\n",
       "   '4. close': '433.5100',\n",
       "   '5. volume': '15128891'},\n",
       "  '2024-09-20': {'1. open': '437.2200',\n",
       "   '2. high': '439.2400',\n",
       "   '3. low': '434.2200',\n",
       "   '4. close': '435.2700',\n",
       "   '5. volume': '55167106'},\n",
       "  '2024-09-19': {'1. open': '441.2250',\n",
       "   '2. high': '441.5000',\n",
       "   '3. low': '436.9000',\n",
       "   '4. close': '438.6900',\n",
       "   '5. volume': '21706559'},\n",
       "  '2024-09-18': {'1. open': '435.0000',\n",
       "   '2. high': '436.0300',\n",
       "   '3. low': '430.4100',\n",
       "   '4. close': '430.8100',\n",
       "   '5. volume': '18898042'},\n",
       "  '2024-09-17': {'1. open': '440.2300',\n",
       "   '2. high': '441.8500',\n",
       "   '3. low': '432.2700',\n",
       "   '4. close': '435.1500',\n",
       "   '5. volume': '18874231'},\n",
       "  '2024-09-16': {'1. open': '430.6000',\n",
       "   '2. high': '433.5300',\n",
       "   '3. low': '428.2200',\n",
       "   '4. close': '431.3400',\n",
       "   '5. volume': '13834697'},\n",
       "  '2024-09-13': {'1. open': '425.8250',\n",
       "   '2. high': '431.8300',\n",
       "   '3. low': '425.4600',\n",
       "   '4. close': '430.5900',\n",
       "   '5. volume': '15874555'},\n",
       "  '2024-09-12': {'1. open': '423.3100',\n",
       "   '2. high': '427.3692',\n",
       "   '3. low': '419.7500',\n",
       "   '4. close': '427.0000',\n",
       "   '5. volume': '17418759'},\n",
       "  '2024-09-11': {'1. open': '415.5000',\n",
       "   '2. high': '423.9900',\n",
       "   '3. low': '409.5800',\n",
       "   '4. close': '423.0400',\n",
       "   '5. volume': '19266923'},\n",
       "  '2024-09-10': {'1. open': '408.2000',\n",
       "   '2. high': '416.3300',\n",
       "   '3. low': '407.7000',\n",
       "   '4. close': '414.2000',\n",
       "   '5. volume': '19594287'},\n",
       "  '2024-09-09': {'1. open': '407.2400',\n",
       "   '2. high': '408.6500',\n",
       "   '3. low': '402.1500',\n",
       "   '4. close': '405.7200',\n",
       "   '5. volume': '15295134'},\n",
       "  '2024-09-06': {'1. open': '409.0600',\n",
       "   '2. high': '410.6500',\n",
       "   '3. low': '400.8000',\n",
       "   '4. close': '401.7000',\n",
       "   '5. volume': '19609526'},\n",
       "  '2024-09-05': {'1. open': '407.6200',\n",
       "   '2. high': '413.1000',\n",
       "   '3. low': '406.1300',\n",
       "   '4. close': '408.3900',\n",
       "   '5. volume': '14195516'},\n",
       "  '2024-09-04': {'1. open': '405.9100',\n",
       "   '2. high': '411.2400',\n",
       "   '3. low': '404.3700',\n",
       "   '4. close': '408.9000',\n",
       "   '5. volume': '14886710'},\n",
       "  '2024-09-03': {'1. open': '417.9100',\n",
       "   '2. high': '419.8800',\n",
       "   '3. low': '407.0300',\n",
       "   '4. close': '409.4400',\n",
       "   '5. volume': '20313603'},\n",
       "  '2024-08-30': {'1. open': '415.6000',\n",
       "   '2. high': '417.4900',\n",
       "   '3. low': '412.1300',\n",
       "   '4. close': '417.1400',\n",
       "   '5. volume': '24308324'},\n",
       "  '2024-08-29': {'1. open': '414.9400',\n",
       "   '2. high': '422.0500',\n",
       "   '3. low': '410.6000',\n",
       "   '4. close': '413.1200',\n",
       "   '5. volume': '17045241'},\n",
       "  '2024-08-28': {'1. open': '414.8800',\n",
       "   '2. high': '415.0000',\n",
       "   '3. low': '407.3100',\n",
       "   '4. close': '410.6000',\n",
       "   '5. volume': '14882660'},\n",
       "  '2024-08-27': {'1. open': '412.8600',\n",
       "   '2. high': '414.3600',\n",
       "   '3. low': '410.2500',\n",
       "   '4. close': '413.8400',\n",
       "   '5. volume': '13492911'},\n",
       "  '2024-08-26': {'1. open': '416.3650',\n",
       "   '2. high': '417.2799',\n",
       "   '3. low': '411.3400',\n",
       "   '4. close': '413.4900',\n",
       "   '5. volume': '13152830'},\n",
       "  '2024-08-23': {'1. open': '416.9800',\n",
       "   '2. high': '419.2600',\n",
       "   '3. low': '412.0900',\n",
       "   '4. close': '416.7900',\n",
       "   '5. volume': '18493784'},\n",
       "  '2024-08-22': {'1. open': '424.3600',\n",
       "   '2. high': '426.7899',\n",
       "   '3. low': '414.6100',\n",
       "   '4. close': '415.5500',\n",
       "   '5. volume': '19361901'},\n",
       "  '2024-08-21': {'1. open': '424.0750',\n",
       "   '2. high': '426.4000',\n",
       "   '3. low': '421.7200',\n",
       "   '4. close': '424.1400',\n",
       "   '5. volume': '16067298'},\n",
       "  '2024-08-20': {'1. open': '421.7000',\n",
       "   '2. high': '425.8600',\n",
       "   '3. low': '421.6400',\n",
       "   '4. close': '424.8000',\n",
       "   '5. volume': '16387581'},\n",
       "  '2024-08-19': {'1. open': '418.9600',\n",
       "   '2. high': '421.7500',\n",
       "   '3. low': '416.4600',\n",
       "   '4. close': '421.5300',\n",
       "   '5. volume': '15233957'},\n",
       "  '2024-08-16': {'1. open': '420.6000',\n",
       "   '2. high': '421.3400',\n",
       "   '3. low': '417.3000',\n",
       "   '4. close': '418.4700',\n",
       "   '5. volume': '22775593'},\n",
       "  '2024-08-15': {'1. open': '419.8000',\n",
       "   '2. high': '421.1100',\n",
       "   '3. low': '417.6600',\n",
       "   '4. close': '421.0300',\n",
       "   '5. volume': '20752144'},\n",
       "  '2024-08-14': {'1. open': '414.8000',\n",
       "   '2. high': '417.7200',\n",
       "   '3. low': '412.4456',\n",
       "   '4. close': '416.8600',\n",
       "   '5. volume': '18266980'},\n",
       "  '2024-08-13': {'1. open': '409.5900',\n",
       "   '2. high': '414.9500',\n",
       "   '3. low': '409.5700',\n",
       "   '4. close': '414.0100',\n",
       "   '5. volume': '19414271'},\n",
       "  '2024-08-12': {'1. open': '407.0600',\n",
       "   '2. high': '408.7600',\n",
       "   '3. low': '404.2434',\n",
       "   '4. close': '406.8100',\n",
       "   '5. volume': '16762883'},\n",
       "  '2024-08-09': {'1. open': '404.0300',\n",
       "   '2. high': '408.0500',\n",
       "   '3. low': '402.2624',\n",
       "   '4. close': '406.0200',\n",
       "   '5. volume': '19276666'},\n",
       "  '2024-08-08': {'1. open': '402.4400',\n",
       "   '2. high': '405.8600',\n",
       "   '3. low': '399.9407',\n",
       "   '4. close': '402.6900',\n",
       "   '5. volume': '20203030'},\n",
       "  '2024-08-07': {'1. open': '408.6350',\n",
       "   '2. high': '410.0800',\n",
       "   '3. low': '397.4700',\n",
       "   '4. close': '398.4300',\n",
       "   '5. volume': '20650906'},\n",
       "  '2024-08-06': {'1. open': '400.0000',\n",
       "   '2. high': '405.6700',\n",
       "   '3. low': '398.5000',\n",
       "   '4. close': '399.6100',\n",
       "   '5. volume': '24946525'},\n",
       "  '2024-08-05': {'1. open': '389.1700',\n",
       "   '2. high': '401.0400',\n",
       "   '3. low': '385.5800',\n",
       "   '4. close': '395.1500',\n",
       "   '5. volume': '40709238'},\n",
       "  '2024-08-02': {'1. open': '412.4900',\n",
       "   '2. high': '415.0000',\n",
       "   '3. low': '404.3400',\n",
       "   '4. close': '408.4900',\n",
       "   '5. volume': '29437900'},\n",
       "  '2024-08-01': {'1. open': '420.7850',\n",
       "   '2. high': '427.4600',\n",
       "   '3. low': '413.0901',\n",
       "   '4. close': '417.1100',\n",
       "   '5. volume': '30296400'},\n",
       "  '2024-07-31': {'1. open': '420.4950',\n",
       "   '2. high': '421.7750',\n",
       "   '3. low': '412.2100',\n",
       "   '4. close': '418.3500',\n",
       "   '5. volume': '42891366'},\n",
       "  '2024-07-30': {'1. open': '427.7200',\n",
       "   '2. high': '429.0500',\n",
       "   '3. low': '417.3600',\n",
       "   '4. close': '422.9200',\n",
       "   '5. volume': '32687578'},\n",
       "  '2024-07-29': {'1. open': '431.5800',\n",
       "   '2. high': '432.1500',\n",
       "   '3. low': '424.7042',\n",
       "   '4. close': '426.7300',\n",
       "   '5. volume': '15125836'},\n",
       "  '2024-07-26': {'1. open': '418.2000',\n",
       "   '2. high': '428.9150',\n",
       "   '3. low': '417.2700',\n",
       "   '4. close': '425.2700',\n",
       "   '5. volume': '23583839'},\n",
       "  '2024-07-25': {'1. open': '428.8000',\n",
       "   '2. high': '429.8000',\n",
       "   '3. low': '417.5100',\n",
       "   '4. close': '418.4000',\n",
       "   '5. volume': '29943795'},\n",
       "  '2024-07-24': {'1. open': '440.4500',\n",
       "   '2. high': '441.4800',\n",
       "   '3. low': '427.5850',\n",
       "   '4. close': '428.9000',\n",
       "   '5. volume': '26805800'},\n",
       "  '2024-07-23': {'1. open': '443.8950',\n",
       "   '2. high': '448.3900',\n",
       "   '3. low': '443.1000',\n",
       "   '4. close': '444.8500',\n",
       "   '5. volume': '13107050'},\n",
       "  '2024-07-22': {'1. open': '441.7900',\n",
       "   '2. high': '444.6000',\n",
       "   '3. low': '438.9125',\n",
       "   '4. close': '442.9400',\n",
       "   '5. volume': '15808755'},\n",
       "  '2024-07-19': {'1. open': '433.1000',\n",
       "   '2. high': '441.1400',\n",
       "   '3. low': '432.0000',\n",
       "   '4. close': '437.1100',\n",
       "   '5. volume': '20940417'},\n",
       "  '2024-07-18': {'1. open': '444.3400',\n",
       "   '2. high': '444.6500',\n",
       "   '3. low': '434.4000',\n",
       "   '4. close': '440.3700',\n",
       "   '5. volume': '20794822'},\n",
       "  '2024-07-17': {'1. open': '442.5900',\n",
       "   '2. high': '444.8500',\n",
       "   '3. low': '439.1800',\n",
       "   '4. close': '443.5200',\n",
       "   '5. volume': '21754021'},\n",
       "  '2024-07-16': {'1. open': '454.2200',\n",
       "   '2. high': '454.3000',\n",
       "   '3. low': '446.6600',\n",
       "   '4. close': '449.5200',\n",
       "   '5. volume': '17175679'},\n",
       "  '2024-07-15': {'1. open': '453.3000',\n",
       "   '2. high': '457.2600',\n",
       "   '3. low': '451.4300',\n",
       "   '4. close': '453.9600',\n",
       "   '5. volume': '14429447'},\n",
       "  '2024-07-12': {'1. open': '454.3250',\n",
       "   '2. high': '456.3600',\n",
       "   '3. low': '450.6450',\n",
       "   '4. close': '453.5500',\n",
       "   '5. volume': '16324274'},\n",
       "  '2024-07-11': {'1. open': '462.9800',\n",
       "   '2. high': '464.7800',\n",
       "   '3. low': '451.5500',\n",
       "   '4. close': '454.7000',\n",
       "   '5. volume': '23111175'},\n",
       "  '2024-07-10': {'1. open': '461.2200',\n",
       "   '2. high': '466.4600',\n",
       "   '3. low': '458.8550',\n",
       "   '4. close': '466.2500',\n",
       "   '5. volume': '18196100'},\n",
       "  '2024-07-09': {'1. open': '467.0000',\n",
       "   '2. high': '467.3300',\n",
       "   '3. low': '458.0000',\n",
       "   '4. close': '459.5400',\n",
       "   '5. volume': '17228507'},\n",
       "  '2024-07-08': {'1. open': '466.5500',\n",
       "   '2. high': '467.7000',\n",
       "   '3. low': '464.4600',\n",
       "   '4. close': '466.2400',\n",
       "   '5. volume': '12962321'},\n",
       "  '2024-07-05': {'1. open': '459.6100',\n",
       "   '2. high': '468.3500',\n",
       "   '3. low': '458.9650',\n",
       "   '4. close': '467.5600',\n",
       "   '5. volume': '16000290'},\n",
       "  '2024-07-03': {'1. open': '458.1900',\n",
       "   '2. high': '461.0200',\n",
       "   '3. low': '457.8800',\n",
       "   '4. close': '460.7700',\n",
       "   '5. volume': '9932830'},\n",
       "  '2024-07-02': {'1. open': '453.2000',\n",
       "   '2. high': '459.5900',\n",
       "   '3. low': '453.1130',\n",
       "   '4. close': '459.2800',\n",
       "   '5. volume': '13979779'},\n",
       "  '2024-07-01': {'1. open': '448.6600',\n",
       "   '2. high': '457.3700',\n",
       "   '3. low': '445.6600',\n",
       "   '4. close': '456.7300',\n",
       "   '5. volume': '17662818'},\n",
       "  '2024-06-28': {'1. open': '453.0700',\n",
       "   '2. high': '455.3800',\n",
       "   '3. low': '446.4100',\n",
       "   '4. close': '446.9500',\n",
       "   '5. volume': '28362271'},\n",
       "  '2024-06-27': {'1. open': '452.1750',\n",
       "   '2. high': '456.1700',\n",
       "   '3. low': '451.7700',\n",
       "   '4. close': '452.8500',\n",
       "   '5. volume': '14806324'},\n",
       "  '2024-06-26': {'1. open': '449.0000',\n",
       "   '2. high': '453.6000',\n",
       "   '3. low': '448.1900',\n",
       "   '4. close': '452.1600',\n",
       "   '5. volume': '16507030'}}}"
      ]
     },
     "execution_count": 16,
     "metadata": {},
     "output_type": "execute_result"
    }
   ],
   "source": [
    "data2"
   ]
  },
  {
   "cell_type": "code",
   "execution_count": 17,
   "metadata": {},
   "outputs": [
    {
     "data": {
      "text/plain": [
       "dict_keys(['Meta Data', 'Time Series (Daily)'])"
      ]
     },
     "execution_count": 17,
     "metadata": {},
     "output_type": "execute_result"
    }
   ],
   "source": [
    "data2.keys()"
   ]
  },
  {
   "cell_type": "code",
   "execution_count": 18,
   "metadata": {},
   "outputs": [
    {
     "data": {
      "text/html": [
       "<div>\n",
       "<style scoped>\n",
       "    .dataframe tbody tr th:only-of-type {\n",
       "        vertical-align: middle;\n",
       "    }\n",
       "\n",
       "    .dataframe tbody tr th {\n",
       "        vertical-align: top;\n",
       "    }\n",
       "\n",
       "    .dataframe thead th {\n",
       "        text-align: right;\n",
       "    }\n",
       "</style>\n",
       "<table border=\"1\" class=\"dataframe\">\n",
       "  <thead>\n",
       "    <tr style=\"text-align: right;\">\n",
       "      <th></th>\n",
       "      <th>1. open</th>\n",
       "      <th>2. high</th>\n",
       "      <th>3. low</th>\n",
       "      <th>4. close</th>\n",
       "      <th>5. volume</th>\n",
       "    </tr>\n",
       "  </thead>\n",
       "  <tbody>\n",
       "    <tr>\n",
       "      <th>2024-11-14</th>\n",
       "      <td>425.0000</td>\n",
       "      <td>428.1700</td>\n",
       "      <td>420.0000</td>\n",
       "      <td>426.8900</td>\n",
       "      <td>30246881</td>\n",
       "    </tr>\n",
       "    <tr>\n",
       "      <th>2024-11-13</th>\n",
       "      <td>421.6400</td>\n",
       "      <td>429.3250</td>\n",
       "      <td>418.2100</td>\n",
       "      <td>425.2000</td>\n",
       "      <td>21502185</td>\n",
       "    </tr>\n",
       "    <tr>\n",
       "      <th>2024-11-12</th>\n",
       "      <td>418.2500</td>\n",
       "      <td>424.4400</td>\n",
       "      <td>417.2000</td>\n",
       "      <td>423.0300</td>\n",
       "      <td>19401204</td>\n",
       "    </tr>\n",
       "    <tr>\n",
       "      <th>2024-11-11</th>\n",
       "      <td>422.5150</td>\n",
       "      <td>424.8100</td>\n",
       "      <td>416.0000</td>\n",
       "      <td>418.0100</td>\n",
       "      <td>24503321</td>\n",
       "    </tr>\n",
       "    <tr>\n",
       "      <th>2024-11-08</th>\n",
       "      <td>425.3200</td>\n",
       "      <td>426.5000</td>\n",
       "      <td>421.7800</td>\n",
       "      <td>422.5400</td>\n",
       "      <td>16891414</td>\n",
       "    </tr>\n",
       "    <tr>\n",
       "      <th>...</th>\n",
       "      <td>...</td>\n",
       "      <td>...</td>\n",
       "      <td>...</td>\n",
       "      <td>...</td>\n",
       "      <td>...</td>\n",
       "    </tr>\n",
       "    <tr>\n",
       "      <th>2024-07-02</th>\n",
       "      <td>453.2000</td>\n",
       "      <td>459.5900</td>\n",
       "      <td>453.1130</td>\n",
       "      <td>459.2800</td>\n",
       "      <td>13979779</td>\n",
       "    </tr>\n",
       "    <tr>\n",
       "      <th>2024-07-01</th>\n",
       "      <td>448.6600</td>\n",
       "      <td>457.3700</td>\n",
       "      <td>445.6600</td>\n",
       "      <td>456.7300</td>\n",
       "      <td>17662818</td>\n",
       "    </tr>\n",
       "    <tr>\n",
       "      <th>2024-06-28</th>\n",
       "      <td>453.0700</td>\n",
       "      <td>455.3800</td>\n",
       "      <td>446.4100</td>\n",
       "      <td>446.9500</td>\n",
       "      <td>28362271</td>\n",
       "    </tr>\n",
       "    <tr>\n",
       "      <th>2024-06-27</th>\n",
       "      <td>452.1750</td>\n",
       "      <td>456.1700</td>\n",
       "      <td>451.7700</td>\n",
       "      <td>452.8500</td>\n",
       "      <td>14806324</td>\n",
       "    </tr>\n",
       "    <tr>\n",
       "      <th>2024-06-26</th>\n",
       "      <td>449.0000</td>\n",
       "      <td>453.6000</td>\n",
       "      <td>448.1900</td>\n",
       "      <td>452.1600</td>\n",
       "      <td>16507030</td>\n",
       "    </tr>\n",
       "  </tbody>\n",
       "</table>\n",
       "<p>100 rows × 5 columns</p>\n",
       "</div>"
      ],
      "text/plain": [
       "             1. open   2. high    3. low  4. close 5. volume\n",
       "2024-11-14  425.0000  428.1700  420.0000  426.8900  30246881\n",
       "2024-11-13  421.6400  429.3250  418.2100  425.2000  21502185\n",
       "2024-11-12  418.2500  424.4400  417.2000  423.0300  19401204\n",
       "2024-11-11  422.5150  424.8100  416.0000  418.0100  24503321\n",
       "2024-11-08  425.3200  426.5000  421.7800  422.5400  16891414\n",
       "...              ...       ...       ...       ...       ...\n",
       "2024-07-02  453.2000  459.5900  453.1130  459.2800  13979779\n",
       "2024-07-01  448.6600  457.3700  445.6600  456.7300  17662818\n",
       "2024-06-28  453.0700  455.3800  446.4100  446.9500  28362271\n",
       "2024-06-27  452.1750  456.1700  451.7700  452.8500  14806324\n",
       "2024-06-26  449.0000  453.6000  448.1900  452.1600  16507030\n",
       "\n",
       "[100 rows x 5 columns]"
      ]
     },
     "execution_count": 18,
     "metadata": {},
     "output_type": "execute_result"
    }
   ],
   "source": [
    "df2 = pd.DataFrame(data2[\"Time Series (Daily)\"]).T\n",
    "df2"
   ]
  },
  {
   "cell_type": "code",
   "execution_count": 19,
   "metadata": {},
   "outputs": [
    {
     "data": {
      "text/plain": [
       "1. open      object\n",
       "2. high      object\n",
       "3. low       object\n",
       "4. close     object\n",
       "5. volume    object\n",
       "dtype: object"
      ]
     },
     "execution_count": 19,
     "metadata": {},
     "output_type": "execute_result"
    }
   ],
   "source": [
    "df2.dtypes"
   ]
  },
  {
   "cell_type": "code",
   "execution_count": 20,
   "metadata": {},
   "outputs": [],
   "source": [
    "df2 = df2.astype(\"float\")"
   ]
  },
  {
   "cell_type": "code",
   "execution_count": 21,
   "metadata": {},
   "outputs": [
    {
     "data": {
      "text/html": [
       "<div>\n",
       "<style scoped>\n",
       "    .dataframe tbody tr th:only-of-type {\n",
       "        vertical-align: middle;\n",
       "    }\n",
       "\n",
       "    .dataframe tbody tr th {\n",
       "        vertical-align: top;\n",
       "    }\n",
       "\n",
       "    .dataframe thead th {\n",
       "        text-align: right;\n",
       "    }\n",
       "</style>\n",
       "<table border=\"1\" class=\"dataframe\">\n",
       "  <thead>\n",
       "    <tr style=\"text-align: right;\">\n",
       "      <th></th>\n",
       "      <th>1. open</th>\n",
       "      <th>2. high</th>\n",
       "      <th>3. low</th>\n",
       "      <th>4. close</th>\n",
       "      <th>5. volume</th>\n",
       "    </tr>\n",
       "  </thead>\n",
       "  <tbody>\n",
       "    <tr>\n",
       "      <th>2024-11-14</th>\n",
       "      <td>425.000</td>\n",
       "      <td>428.170</td>\n",
       "      <td>420.000</td>\n",
       "      <td>426.89</td>\n",
       "      <td>30246881.0</td>\n",
       "    </tr>\n",
       "    <tr>\n",
       "      <th>2024-11-13</th>\n",
       "      <td>421.640</td>\n",
       "      <td>429.325</td>\n",
       "      <td>418.210</td>\n",
       "      <td>425.20</td>\n",
       "      <td>21502185.0</td>\n",
       "    </tr>\n",
       "    <tr>\n",
       "      <th>2024-11-12</th>\n",
       "      <td>418.250</td>\n",
       "      <td>424.440</td>\n",
       "      <td>417.200</td>\n",
       "      <td>423.03</td>\n",
       "      <td>19401204.0</td>\n",
       "    </tr>\n",
       "    <tr>\n",
       "      <th>2024-11-11</th>\n",
       "      <td>422.515</td>\n",
       "      <td>424.810</td>\n",
       "      <td>416.000</td>\n",
       "      <td>418.01</td>\n",
       "      <td>24503321.0</td>\n",
       "    </tr>\n",
       "    <tr>\n",
       "      <th>2024-11-08</th>\n",
       "      <td>425.320</td>\n",
       "      <td>426.500</td>\n",
       "      <td>421.780</td>\n",
       "      <td>422.54</td>\n",
       "      <td>16891414.0</td>\n",
       "    </tr>\n",
       "    <tr>\n",
       "      <th>...</th>\n",
       "      <td>...</td>\n",
       "      <td>...</td>\n",
       "      <td>...</td>\n",
       "      <td>...</td>\n",
       "      <td>...</td>\n",
       "    </tr>\n",
       "    <tr>\n",
       "      <th>2024-07-02</th>\n",
       "      <td>453.200</td>\n",
       "      <td>459.590</td>\n",
       "      <td>453.113</td>\n",
       "      <td>459.28</td>\n",
       "      <td>13979779.0</td>\n",
       "    </tr>\n",
       "    <tr>\n",
       "      <th>2024-07-01</th>\n",
       "      <td>448.660</td>\n",
       "      <td>457.370</td>\n",
       "      <td>445.660</td>\n",
       "      <td>456.73</td>\n",
       "      <td>17662818.0</td>\n",
       "    </tr>\n",
       "    <tr>\n",
       "      <th>2024-06-28</th>\n",
       "      <td>453.070</td>\n",
       "      <td>455.380</td>\n",
       "      <td>446.410</td>\n",
       "      <td>446.95</td>\n",
       "      <td>28362271.0</td>\n",
       "    </tr>\n",
       "    <tr>\n",
       "      <th>2024-06-27</th>\n",
       "      <td>452.175</td>\n",
       "      <td>456.170</td>\n",
       "      <td>451.770</td>\n",
       "      <td>452.85</td>\n",
       "      <td>14806324.0</td>\n",
       "    </tr>\n",
       "    <tr>\n",
       "      <th>2024-06-26</th>\n",
       "      <td>449.000</td>\n",
       "      <td>453.600</td>\n",
       "      <td>448.190</td>\n",
       "      <td>452.16</td>\n",
       "      <td>16507030.0</td>\n",
       "    </tr>\n",
       "  </tbody>\n",
       "</table>\n",
       "<p>100 rows × 5 columns</p>\n",
       "</div>"
      ],
      "text/plain": [
       "            1. open  2. high   3. low  4. close   5. volume\n",
       "2024-11-14  425.000  428.170  420.000    426.89  30246881.0\n",
       "2024-11-13  421.640  429.325  418.210    425.20  21502185.0\n",
       "2024-11-12  418.250  424.440  417.200    423.03  19401204.0\n",
       "2024-11-11  422.515  424.810  416.000    418.01  24503321.0\n",
       "2024-11-08  425.320  426.500  421.780    422.54  16891414.0\n",
       "...             ...      ...      ...       ...         ...\n",
       "2024-07-02  453.200  459.590  453.113    459.28  13979779.0\n",
       "2024-07-01  448.660  457.370  445.660    456.73  17662818.0\n",
       "2024-06-28  453.070  455.380  446.410    446.95  28362271.0\n",
       "2024-06-27  452.175  456.170  451.770    452.85  14806324.0\n",
       "2024-06-26  449.000  453.600  448.190    452.16  16507030.0\n",
       "\n",
       "[100 rows x 5 columns]"
      ]
     },
     "execution_count": 21,
     "metadata": {},
     "output_type": "execute_result"
    }
   ],
   "source": [
    "df2"
   ]
  },
  {
   "cell_type": "code",
   "execution_count": 22,
   "metadata": {},
   "outputs": [
    {
     "data": {
      "text/plain": [
       "1. open      float64\n",
       "2. high      float64\n",
       "3. low       float64\n",
       "4. close     float64\n",
       "5. volume    float64\n",
       "dtype: object"
      ]
     },
     "execution_count": 22,
     "metadata": {},
     "output_type": "execute_result"
    }
   ],
   "source": [
    "df2.dtypes"
   ]
  },
  {
   "cell_type": "code",
   "execution_count": 23,
   "metadata": {},
   "outputs": [],
   "source": [
    "df2.index = pd.to_datetime(df2.index)"
   ]
  },
  {
   "cell_type": "markdown",
   "metadata": {},
   "source": [
    "#### Plot the graph"
   ]
  },
  {
   "attachments": {
    "image.png": {
     "image/png": "[encoded data removed]"
    }
   },
   "cell_type": "markdown",
   "metadata": {},
   "source": [
    "![image.png](attachment:image.png)"
   ]
  },
  {
   "cell_type": "code",
   "execution_count": 24,
   "metadata": {},
   "outputs": [],
   "source": [
    "df2.to_csv(\"SBIN.csv\")"
   ]
  },
  {
   "cell_type": "markdown",
   "metadata": {},
   "source": [
    "### Visualize  SBI stock price"
   ]
  },
  {
   "cell_type": "code",
   "execution_count": 25,
   "metadata": {},
   "outputs": [],
   "source": [
    "import plotly.graph_objects as go"
   ]
  },
  {
   "cell_type": "code",
   "execution_count": null,
   "metadata": {},
   "outputs": [
    {
     "data": {
      "application/vnd.plotly.v1+json": {
       "config": {
        "plotlyServerURL": "https://plot.ly"
       },
       "data": [
        {
         "close": [
          426.89,
          425.2,
          423.03,
          418.01,
          422.54,
          425.43,
          420.18,
          411.46,
          408.46,
          410.37,
          406.35,
          432.53,
          431.95,
          426.59,
          428.15,
          424.73,
          424.6,
          427.51,
          418.78,
          418.16,
          416.72,
          416.12,
          418.74,
          419.14,
          416.32,
          415.84,
          417.46,
          414.71,
          409.54,
          416.06,
          416.54,
          417.13,
          420.69,
          430.3,
          428.02,
          431.31,
          432.11,
          429.17,
          433.51,
          435.27,
          438.69,
          430.81,
          435.15,
          431.34,
          430.59,
          427,
          423.04,
          414.2,
          405.72,
          401.7,
          408.39,
          408.9,
          409.44,
          417.14,
          413.12,
          410.6,
          413.84,
          413.49,
          416.79,
          415.55,
          424.14,
          424.8,
          421.53,
          418.47,
          421.03,
          416.86,
          414.01,
          406.81,
          406.02,
          402.69,
          398.43,
          399.61,
          395.15,
          408.49,
          417.11,
          418.35,
          422.92,
          426.73,
          425.27,
          418.4,
          428.9,
          444.85,
          442.94,
          437.11,
          440.37,
          443.52,
          449.52,
          453.96,
          453.55,
          454.7,
          466.25,
          459.54,
          466.24,
          467.56,
          460.77,
          459.28,
          456.73,
          446.95,
          452.85,
          452.16
         ],
         "high": [
          428.17,
          429.325,
          424.44,
          424.81,
          426.5,
          426.85,
          420.45,
          414.9,
          410.415,
          415.5,
          416.16,
          438.5,
          433.17,
          431.94,
          432.52,
          425.9782,
          431.08,
          430.5793,
          418.96,
          419.65,
          422.5,
          416.36,
          422.48,
          424.04,
          417.13,
          417.35,
          420.38,
          415.66,
          417.11,
          419.75,
          419.55,
          422.82,
          428.48,
          430.42,
          431.85,
          435.3,
          433.119,
          433.35,
          436.46,
          439.24,
          441.5,
          436.03,
          441.85,
          433.53,
          431.83,
          427.3692,
          423.99,
          416.33,
          408.65,
          410.65,
          413.1,
          411.24,
          419.88,
          417.49,
          422.05,
          415,
          414.36,
          417.2799,
          419.26,
          426.7899,
          426.4,
          425.86,
          421.75,
          421.34,
          421.11,
          417.72,
          414.95,
          408.76,
          408.05,
          405.86,
          410.08,
          405.67,
          401.04,
          415,
          427.46,
          421.775,
          429.05,
          432.15,
          428.915,
          429.8,
          441.48,
          448.39,
          444.6,
          441.14,
          444.65,
          444.85,
          454.3,
          457.26,
          456.36,
          464.78,
          466.46,
          467.33,
          467.7,
          468.35,
          461.02,
          459.59,
          457.37,
          455.38,
          456.17,
          453.6
         ],
         "low": [
          420,
          418.21,
          417.2,
          416,
          421.78,
          419.88,
          410.52,
          408.08,
          405.5713,
          407.5,
          406.3,
          432.1,
          425.8001,
          426.3,
          426.565,
          422.4,
          422.53,
          418.04,
          413.7501,
          416.2601,
          415.59,
          410.48,
          415.26,
          417.52,
          413.25,
          413.15,
          414.3,
          408.17,
          409,
          414.97,
          414.29,
          416.71,
          418.81,
          425.37,
          427.47,
          429.13,
          428.57,
          426.1,
          430.3889,
          434.22,
          436.9,
          430.41,
          432.27,
          428.22,
          425.46,
          419.75,
          409.58,
          407.7,
          402.15,
          400.8,
          406.13,
          404.37,
          407.03,
          412.13,
          410.6,
          407.31,
          410.25,
          411.34,
          412.09,
          414.61,
          421.72,
          421.64,
          416.46,
          417.3,
          417.66,
          412.4456,
          409.57,
          404.2434,
          402.2624,
          399.9407,
          397.47,
          398.5,
          385.58,
          404.34,
          413.0901,
          412.21,
          417.36,
          424.7042,
          417.27,
          417.51,
          427.585,
          443.1,
          438.9125,
          432,
          434.4,
          439.18,
          446.66,
          451.43,
          450.645,
          451.55,
          458.855,
          458,
          464.46,
          458.965,
          457.88,
          453.113,
          445.66,
          446.41,
          451.77,
          448.19
         ],
         "open": [
          425,
          421.64,
          418.25,
          422.515,
          425.32,
          421.28,
          412.42,
          408.37,
          409.8,
          409.01,
          415.36,
          437.435,
          428,
          431.655,
          426.76,
          425.325,
          430.855,
          418.49,
          416.12,
          417.14,
          422.36,
          415.17,
          422.18,
          417.77,
          416.135,
          415.225,
          415.86,
          410.9,
          416,
          418.24,
          417.63,
          422.58,
          428.45,
          428.21,
          431.52,
          435.085,
          429.83,
          433,
          434.28,
          437.22,
          441.225,
          435,
          440.23,
          430.6,
          425.825,
          423.31,
          415.5,
          408.2,
          407.24,
          409.06,
          407.62,
          405.91,
          417.91,
          415.6,
          414.94,
          414.88,
          412.86,
          416.365,
          416.98,
          424.36,
          424.075,
          421.7,
          418.96,
          420.6,
          419.8,
          414.8,
          409.59,
          407.06,
          404.03,
          402.44,
          408.635,
          400,
          389.17,
          412.49,
          420.785,
          420.495,
          427.72,
          431.58,
          418.2,
          428.8,
          440.45,
          443.895,
          441.79,
          433.1,
          444.34,
          442.59,
          454.22,
          453.3,
          454.325,
          462.98,
          461.22,
          467,
          466.55,
          459.61,
          458.19,
          453.2,
          448.66,
          453.07,
          452.175,
          449
         ],
         "type": "candlestick",
         "x": [
          "2024-11-14T00:00:00",
          "2024-11-13T00:00:00",
          "2024-11-12T00:00:00",
          "2024-11-11T00:00:00",
          "2024-11-08T00:00:00",
          "2024-11-07T00:00:00",
          "2024-11-06T00:00:00",
          "2024-11-05T00:00:00",
          "2024-11-04T00:00:00",
          "2024-11-01T00:00:00",
          "2024-10-31T00:00:00",
          "2024-10-30T00:00:00",
          "2024-10-29T00:00:00",
          "2024-10-28T00:00:00",
          "2024-10-25T00:00:00",
          "2024-10-24T00:00:00",
          "2024-10-23T00:00:00",
          "2024-10-22T00:00:00",
          "2024-10-21T00:00:00",
          "2024-10-18T00:00:00",
          "2024-10-17T00:00:00",
          "2024-10-16T00:00:00",
          "2024-10-15T00:00:00",
          "2024-10-14T00:00:00",
          "2024-10-11T00:00:00",
          "2024-10-10T00:00:00",
          "2024-10-09T00:00:00",
          "2024-10-08T00:00:00",
          "2024-10-07T00:00:00",
          "2024-10-04T00:00:00",
          "2024-10-03T00:00:00",
          "2024-10-02T00:00:00",
          "2024-10-01T00:00:00",
          "2024-09-30T00:00:00",
          "2024-09-27T00:00:00",
          "2024-09-26T00:00:00",
          "2024-09-25T00:00:00",
          "2024-09-24T00:00:00",
          "2024-09-23T00:00:00",
          "2024-09-20T00:00:00",
          "2024-09-19T00:00:00",
          "2024-09-18T00:00:00",
          "2024-09-17T00:00:00",
          "2024-09-16T00:00:00",
          "2024-09-13T00:00:00",
          "2024-09-12T00:00:00",
          "2024-09-11T00:00:00",
          "2024-09-10T00:00:00",
          "2024-09-09T00:00:00",
          "2024-09-06T00:00:00",
          "2024-09-05T00:00:00",
          "2024-09-04T00:00:00",
          "2024-09-03T00:00:00",
          "2024-08-30T00:00:00",
          "2024-08-29T00:00:00",
          "2024-08-28T00:00:00",
          "2024-08-27T00:00:00",
          "2024-08-26T00:00:00",
          "2024-08-23T00:00:00",
          "2024-08-22T00:00:00",
          "2024-08-21T00:00:00",
          "2024-08-20T00:00:00",
          "2024-08-19T00:00:00",
          "2024-08-16T00:00:00",
          "2024-08-15T00:00:00",
          "2024-08-14T00:00:00",
          "2024-08-13T00:00:00",
          "2024-08-12T00:00:00",
          "2024-08-09T00:00:00",
          "2024-08-08T00:00:00",
          "2024-08-07T00:00:00",
          "2024-08-06T00:00:00",
          "2024-08-05T00:00:00",
          "2024-08-02T00:00:00",
          "2024-08-01T00:00:00",
          "2024-07-31T00:00:00",
          "2024-07-30T00:00:00",
          "2024-07-29T00:00:00",
          "2024-07-26T00:00:00",
          "2024-07-25T00:00:00",
          "2024-07-24T00:00:00",
          "2024-07-23T00:00:00",
          "2024-07-22T00:00:00",
          "2024-07-19T00:00:00",
          "2024-07-18T00:00:00",
          "2024-07-17T00:00:00",
          "2024-07-16T00:00:00",
          "2024-07-15T00:00:00",
          "2024-07-12T00:00:00",
          "2024-07-11T00:00:00",
          "2024-07-10T00:00:00",
          "2024-07-09T00:00:00",
          "2024-07-08T00:00:00",
          "2024-07-05T00:00:00",
          "2024-07-03T00:00:00",
          "2024-07-02T00:00:00",
          "2024-07-01T00:00:00",
          "2024-06-28T00:00:00",
          "2024-06-27T00:00:00",
          "2024-06-26T00:00:00"
         ]
        }
       ],
       "layout": {
        "height": 800,
        "template": {
         "data": {
          "bar": [
           {
            "error_x": {
             "color": "#2a3f5f"
            },
            "error_y": {
             "color": "#2a3f5f"
            },
            "marker": {
             "line": {
              "color": "#E5ECF6",
              "width": 0.5
             },
             "pattern": {
              "fillmode": "overlay",
              "size": 10,
              "solidity": 0.2
             }
            },
            "type": "bar"
           }
          ],
          "barpolar": [
           {
            "marker": {
             "line": {
              "color": "#E5ECF6",
              "width": 0.5
             },
             "pattern": {
              "fillmode": "overlay",
              "size": 10,
              "solidity": 0.2
             }
            },
            "type": "barpolar"
           }
          ],
          "carpet": [
           {
            "aaxis": {
             "endlinecolor": "#2a3f5f",
             "gridcolor": "white",
             "linecolor": "white",
             "minorgridcolor": "white",
             "startlinecolor": "#2a3f5f"
            },
            "baxis": {
             "endlinecolor": "#2a3f5f",
             "gridcolor": "white",
             "linecolor": "white",
             "minorgridcolor": "white",
             "startlinecolor": "#2a3f5f"
            },
            "type": "carpet"
           }
          ],
          "choropleth": [
           {
            "colorbar": {
             "outlinewidth": 0,
             "ticks": ""
            },
            "type": "choropleth"
           }
          ],
          "contour": [
           {
            "colorbar": {
             "outlinewidth": 0,
             "ticks": ""
            },
            "colorscale": [
             [
              0,
              "#0d0887"
             ],
             [
              0.1111111111111111,
              "#46039f"
             ],
             [
              0.2222222222222222,
              "#7201a8"
             ],
             [
              0.3333333333333333,
              "#9c179e"
             ],
             [
              0.4444444444444444,
              "#bd3786"
             ],
             [
              0.5555555555555556,
              "#d8576b"
             ],
             [
              0.6666666666666666,
              "#ed7953"
             ],
             [
              0.7777777777777778,
              "#fb9f3a"
             ],
             [
              0.8888888888888888,
              "#fdca26"
             ],
             [
              1,
              "#f0f921"
             ]
            ],
            "type": "contour"
           }
          ],
          "contourcarpet": [
           {
            "colorbar": {
             "outlinewidth": 0,
             "ticks": ""
            },
            "type": "contourcarpet"
           }
          ],
          "heatmap": [
           {
            "colorbar": {
             "outlinewidth": 0,
             "ticks": ""
            },
            "colorscale": [
             [
              0,
              "#0d0887"
             ],
             [
              0.1111111111111111,
              "#46039f"
             ],
             [
              0.2222222222222222,
              "#7201a8"
             ],
             [
              0.3333333333333333,
              "#9c179e"
             ],
             [
              0.4444444444444444,
              "#bd3786"
             ],
             [
              0.5555555555555556,
              "#d8576b"
             ],
             [
              0.6666666666666666,
              "#ed7953"
             ],
             [
              0.7777777777777778,
              "#fb9f3a"
             ],
             [
              0.8888888888888888,
              "#fdca26"
             ],
             [
              1,
              "#f0f921"
             ]
            ],
            "type": "heatmap"
           }
          ],
          "heatmapgl": [
           {
            "colorbar": {
             "outlinewidth": 0,
             "ticks": ""
            },
            "colorscale": [
             [
              0,
              "#0d0887"
             ],
             [
              0.1111111111111111,
              "#46039f"
             ],
             [
              0.2222222222222222,
              "#7201a8"
             ],
             [
              0.3333333333333333,
              "#9c179e"
             ],
             [
              0.4444444444444444,
              "#bd3786"
             ],
             [
              0.5555555555555556,
              "#d8576b"
             ],
             [
              0.6666666666666666,
              "#ed7953"
             ],
             [
              0.7777777777777778,
              "#fb9f3a"
             ],
             [
              0.8888888888888888,
              "#fdca26"
             ],
             [
              1,
              "#f0f921"
             ]
            ],
            "type": "heatmapgl"
           }
          ],
          "histogram": [
           {
            "marker": {
             "pattern": {
              "fillmode": "overlay",
              "size": 10,
              "solidity": 0.2
             }
            },
            "type": "histogram"
           }
          ],
          "histogram2d": [
           {
            "colorbar": {
             "outlinewidth": 0,
             "ticks": ""
            },
            "colorscale": [
             [
              0,
              "#0d0887"
             ],
             [
              0.1111111111111111,
              "#46039f"
             ],
             [
              0.2222222222222222,
              "#7201a8"
             ],
             [
              0.3333333333333333,
              "#9c179e"
             ],
             [
              0.4444444444444444,
              "#bd3786"
             ],
             [
              0.5555555555555556,
              "#d8576b"
             ],
             [
              0.6666666666666666,
              "#ed7953"
             ],
             [
              0.7777777777777778,
              "#fb9f3a"
             ],
             [
              0.8888888888888888,
              "#fdca26"
             ],
             [
              1,
              "#f0f921"
             ]
            ],
            "type": "histogram2d"
           }
          ],
          "histogram2dcontour": [
           {
            "colorbar": {
             "outlinewidth": 0,
             "ticks": ""
            },
            "colorscale": [
             [
              0,
              "#0d0887"
             ],
             [
              0.1111111111111111,
              "#46039f"
             ],
             [
              0.2222222222222222,
              "#7201a8"
             ],
             [
              0.3333333333333333,
              "#9c179e"
             ],
             [
              0.4444444444444444,
              "#bd3786"
             ],
             [
              0.5555555555555556,
              "#d8576b"
             ],
             [
              0.6666666666666666,
              "#ed7953"
             ],
             [
              0.7777777777777778,
              "#fb9f3a"
             ],
             [
              0.8888888888888888,
              "#fdca26"
             ],
             [
              1,
              "#f0f921"
             ]
            ],
            "type": "histogram2dcontour"
           }
          ],
          "mesh3d": [
           {
            "colorbar": {
             "outlinewidth": 0,
             "ticks": ""
            },
            "type": "mesh3d"
           }
          ],
          "parcoords": [
           {
            "line": {
             "colorbar": {
              "outlinewidth": 0,
              "ticks": ""
             }
            },
            "type": "parcoords"
           }
          ],
          "pie": [
           {
            "automargin": true,
            "type": "pie"
           }
          ],
          "scatter": [
           {
            "fillpattern": {
             "fillmode": "overlay",
             "size": 10,
             "solidity": 0.2
            },
            "type": "scatter"
           }
          ],
          "scatter3d": [
           {
            "line": {
             "colorbar": {
              "outlinewidth": 0,
              "ticks": ""
             }
            },
            "marker": {
             "colorbar": {
              "outlinewidth": 0,
              "ticks": ""
             }
            },
            "type": "scatter3d"
           }
          ],
          "scattercarpet": [
           {
            "marker": {
             "colorbar": {
              "outlinewidth": 0,
              "ticks": ""
             }
            },
            "type": "scattercarpet"
           }
          ],
          "scattergeo": [
           {
            "marker": {
             "colorbar": {
              "outlinewidth": 0,
              "ticks": ""
             }
            },
            "type": "scattergeo"
           }
          ],
          "scattergl": [
           {
            "marker": {
             "colorbar": {
              "outlinewidth": 0,
              "ticks": ""
             }
            },
            "type": "scattergl"
           }
          ],
          "scattermapbox": [
           {
            "marker": {
             "colorbar": {
              "outlinewidth": 0,
              "ticks": ""
             }
            },
            "type": "scattermapbox"
           }
          ],
          "scatterpolar": [
           {
            "marker": {
             "colorbar": {
              "outlinewidth": 0,
              "ticks": ""
             }
            },
            "type": "scatterpolar"
           }
          ],
          "scatterpolargl": [
           {
            "marker": {
             "colorbar": {
              "outlinewidth": 0,
              "ticks": ""
             }
            },
            "type": "scatterpolargl"
           }
          ],
          "scatterternary": [
           {
            "marker": {
             "colorbar": {
              "outlinewidth": 0,
              "ticks": ""
             }
            },
            "type": "scatterternary"
           }
          ],
          "surface": [
           {
            "colorbar": {
             "outlinewidth": 0,
             "ticks": ""
            },
            "colorscale": [
             [
              0,
              "#0d0887"
             ],
             [
              0.1111111111111111,
              "#46039f"
             ],
             [
              0.2222222222222222,
              "#7201a8"
             ],
             [
              0.3333333333333333,
              "#9c179e"
             ],
             [
              0.4444444444444444,
              "#bd3786"
             ],
             [
              0.5555555555555556,
              "#d8576b"
             ],
             [
              0.6666666666666666,
              "#ed7953"
             ],
             [
              0.7777777777777778,
              "#fb9f3a"
             ],
             [
              0.8888888888888888,
              "#fdca26"
             ],
             [
              1,
              "#f0f921"
             ]
            ],
            "type": "surface"
           }
          ],
          "table": [
           {
            "cells": {
             "fill": {
              "color": "#EBF0F8"
             },
             "line": {
              "color": "white"
             }
            },
            "header": {
             "fill": {
              "color": "#C8D4E3"
             },
             "line": {
              "color": "white"
             }
            },
            "type": "table"
           }
          ]
         },
         "layout": {
          "annotationdefaults": {
           "arrowcolor": "#2a3f5f",
           "arrowhead": 0,
           "arrowwidth": 1
          },
          "autotypenumbers": "strict",
          "coloraxis": {
           "colorbar": {
            "outlinewidth": 0,
            "ticks": ""
           }
          },
          "colorscale": {
           "diverging": [
            [
             0,
             "#8e0152"
            ],
            [
             0.1,
             "#c51b7d"
            ],
            [
             0.2,
             "#de77ae"
            ],
            [
             0.3,
             "#f1b6da"
            ],
            [
             0.4,
             "#fde0ef"
            ],
            [
             0.5,
             "#f7f7f7"
            ],
            [
             0.6,
             "#e6f5d0"
            ],
            [
             0.7,
             "#b8e186"
            ],
            [
             0.8,
             "#7fbc41"
            ],
            [
             0.9,
             "#4d9221"
            ],
            [
             1,
             "#276419"
            ]
           ],
           "sequential": [
            [
             0,
             "#0d0887"
            ],
            [
             0.1111111111111111,
             "#46039f"
            ],
            [
             0.2222222222222222,
             "#7201a8"
            ],
            [
             0.3333333333333333,
             "#9c179e"
            ],
            [
             0.4444444444444444,
             "#bd3786"
            ],
            [
             0.5555555555555556,
             "#d8576b"
            ],
            [
             0.6666666666666666,
             "#ed7953"
            ],
            [
             0.7777777777777778,
             "#fb9f3a"
            ],
            [
             0.8888888888888888,
             "#fdca26"
            ],
            [
             1,
             "#f0f921"
            ]
           ],
           "sequentialminus": [
            [
             0,
             "#0d0887"
            ],
            [
             0.1111111111111111,
             "#46039f"
            ],
            [
             0.2222222222222222,
             "#7201a8"
            ],
            [
             0.3333333333333333,
             "#9c179e"
            ],
            [
             0.4444444444444444,
             "#bd3786"
            ],
            [
             0.5555555555555556,
             "#d8576b"
            ],
            [
             0.6666666666666666,
             "#ed7953"
            ],
            [
             0.7777777777777778,
             "#fb9f3a"
            ],
            [
             0.8888888888888888,
             "#fdca26"
            ],
            [
             1,
             "#f0f921"
            ]
           ]
          },
          "colorway": [
           "#636efa",
           "#EF553B",
           "#00cc96",
           "#ab63fa",
           "#FFA15A",
           "#19d3f3",
           "#FF6692",
           "#B6E880",
           "#FF97FF",
           "#FECB52"
          ],
          "font": {
           "color": "#2a3f5f"
          },
          "geo": {
           "bgcolor": "white",
           "lakecolor": "white",
           "landcolor": "#E5ECF6",
           "showlakes": true,
           "showland": true,
           "subunitcolor": "white"
          },
          "hoverlabel": {
           "align": "left"
          },
          "hovermode": "closest",
          "mapbox": {
           "style": "light"
          },
          "paper_bgcolor": "white",
          "plot_bgcolor": "#E5ECF6",
          "polar": {
           "angularaxis": {
            "gridcolor": "white",
            "linecolor": "white",
            "ticks": ""
           },
           "bgcolor": "#E5ECF6",
           "radialaxis": {
            "gridcolor": "white",
            "linecolor": "white",
            "ticks": ""
           }
          },
          "scene": {
           "xaxis": {
            "backgroundcolor": "#E5ECF6",
            "gridcolor": "white",
            "gridwidth": 2,
            "linecolor": "white",
            "showbackground": true,
            "ticks": "",
            "zerolinecolor": "white"
           },
           "yaxis": {
            "backgroundcolor": "#E5ECF6",
            "gridcolor": "white",
            "gridwidth": 2,
            "linecolor": "white",
            "showbackground": true,
            "ticks": "",
            "zerolinecolor": "white"
           },
           "zaxis": {
            "backgroundcolor": "#E5ECF6",
            "gridcolor": "white",
            "gridwidth": 2,
            "linecolor": "white",
            "showbackground": true,
            "ticks": "",
            "zerolinecolor": "white"
           }
          },
          "shapedefaults": {
           "line": {
            "color": "#2a3f5f"
           }
          },
          "ternary": {
           "aaxis": {
            "gridcolor": "white",
            "linecolor": "white",
            "ticks": ""
           },
           "baxis": {
            "gridcolor": "white",
            "linecolor": "white",
            "ticks": ""
           },
           "bgcolor": "#E5ECF6",
           "caxis": {
            "gridcolor": "white",
            "linecolor": "white",
            "ticks": ""
           }
          },
          "title": {
           "x": 0.05
          },
          "xaxis": {
           "automargin": true,
           "gridcolor": "white",
           "linecolor": "white",
           "ticks": "",
           "title": {
            "standoff": 15
           },
           "zerolinecolor": "white",
           "zerolinewidth": 2
          },
          "yaxis": {
           "automargin": true,
           "gridcolor": "white",
           "linecolor": "white",
           "ticks": "",
           "title": {
            "standoff": 15
           },
           "zerolinecolor": "white",
           "zerolinewidth": 2
          }
         }
        },
        "width": 1200
       }
      }
     },
     "metadata": {},
     "output_type": "display_data"
    }
   ],
   "source": [
    "chart = go.Figure(\n",
    "    data = [\n",
    "        go.Candlestick(\n",
    "            x = df2.index,\n",
    "            open = df2[\"1. open\"],\n",
    "            high = df2[\"2. high\"],\n",
    "            low = df2[\"3. low\"],\n",
    "            close = df2[\"4. close\"]\n",
    "        )\n",
    "\n",
    "    ]\n",
    ")\n",
    "\n",
    "chart.update_layout(width = 1200, height = 800)\n",
    "\n",
    "chart.show()"
   ]
  },
  {
   "cell_type": "markdown",
   "metadata": {},
   "source": [
    "### Creating class for Getting any data stock data"
   ]
  },
  {
   "cell_type": "code",
   "execution_count": 30,
   "metadata": {},
   "outputs": [
    {
     "data": {
      "application/vnd.plotly.v1+json": {
       "config": {
        "plotlyServerURL": "https://plot.ly"
       },
       "data": [
        {
         "close": [
          426.89,
          425.2,
          423.03,
          418.01,
          422.54,
          425.43,
          420.18,
          411.46,
          408.46,
          410.37,
          406.35,
          432.53,
          431.95,
          426.59,
          428.15,
          424.73,
          424.6,
          427.51,
          418.78,
          418.16,
          416.72,
          416.12,
          418.74,
          419.14,
          416.32,
          415.84,
          417.46,
          414.71,
          409.54,
          416.06,
          416.54,
          417.13,
          420.69,
          430.3,
          428.02,
          431.31,
          432.11,
          429.17,
          433.51,
          435.27,
          438.69,
          430.81,
          435.15,
          431.34,
          430.59,
          427,
          423.04,
          414.2,
          405.72,
          401.7,
          408.39,
          408.9,
          409.44,
          417.14,
          413.12,
          410.6,
          413.84,
          413.49,
          416.79,
          415.55,
          424.14,
          424.8,
          421.53,
          418.47,
          421.03,
          416.86,
          414.01,
          406.81,
          406.02,
          402.69,
          398.43,
          399.61,
          395.15,
          408.49,
          417.11,
          418.35,
          422.92,
          426.73,
          425.27,
          418.4,
          428.9,
          444.85,
          442.94,
          437.11,
          440.37,
          443.52,
          449.52,
          453.96,
          453.55,
          454.7,
          466.25,
          459.54,
          466.24,
          467.56,
          460.77,
          459.28,
          456.73,
          446.95,
          452.85,
          452.16
         ],
         "high": [
          428.17,
          429.325,
          424.44,
          424.81,
          426.5,
          426.85,
          420.45,
          414.9,
          410.415,
          415.5,
          416.16,
          438.5,
          433.17,
          431.94,
          432.52,
          425.9782,
          431.08,
          430.5793,
          418.96,
          419.65,
          422.5,
          416.36,
          422.48,
          424.04,
          417.13,
          417.35,
          420.38,
          415.66,
          417.11,
          419.75,
          419.55,
          422.82,
          428.48,
          430.42,
          431.85,
          435.3,
          433.119,
          433.35,
          436.46,
          439.24,
          441.5,
          436.03,
          441.85,
          433.53,
          431.83,
          427.3692,
          423.99,
          416.33,
          408.65,
          410.65,
          413.1,
          411.24,
          419.88,
          417.49,
          422.05,
          415,
          414.36,
          417.2799,
          419.26,
          426.7899,
          426.4,
          425.86,
          421.75,
          421.34,
          421.11,
          417.72,
          414.95,
          408.76,
          408.05,
          405.86,
          410.08,
          405.67,
          401.04,
          415,
          427.46,
          421.775,
          429.05,
          432.15,
          428.915,
          429.8,
          441.48,
          448.39,
          444.6,
          441.14,
          444.65,
          444.85,
          454.3,
          457.26,
          456.36,
          464.78,
          466.46,
          467.33,
          467.7,
          468.35,
          461.02,
          459.59,
          457.37,
          455.38,
          456.17,
          453.6
         ],
         "low": [
          420,
          418.21,
          417.2,
          416,
          421.78,
          419.88,
          410.52,
          408.08,
          405.5713,
          407.5,
          406.3,
          432.1,
          425.8001,
          426.3,
          426.565,
          422.4,
          422.53,
          418.04,
          413.7501,
          416.2601,
          415.59,
          410.48,
          415.26,
          417.52,
          413.25,
          413.15,
          414.3,
          408.17,
          409,
          414.97,
          414.29,
          416.71,
          418.81,
          425.37,
          427.47,
          429.13,
          428.57,
          426.1,
          430.3889,
          434.22,
          436.9,
          430.41,
          432.27,
          428.22,
          425.46,
          419.75,
          409.58,
          407.7,
          402.15,
          400.8,
          406.13,
          404.37,
          407.03,
          412.13,
          410.6,
          407.31,
          410.25,
          411.34,
          412.09,
          414.61,
          421.72,
          421.64,
          416.46,
          417.3,
          417.66,
          412.4456,
          409.57,
          404.2434,
          402.2624,
          399.9407,
          397.47,
          398.5,
          385.58,
          404.34,
          413.0901,
          412.21,
          417.36,
          424.7042,
          417.27,
          417.51,
          427.585,
          443.1,
          438.9125,
          432,
          434.4,
          439.18,
          446.66,
          451.43,
          450.645,
          451.55,
          458.855,
          458,
          464.46,
          458.965,
          457.88,
          453.113,
          445.66,
          446.41,
          451.77,
          448.19
         ],
         "open": [
          425,
          421.64,
          418.25,
          422.515,
          425.32,
          421.28,
          412.42,
          408.37,
          409.8,
          409.01,
          415.36,
          437.435,
          428,
          431.655,
          426.76,
          425.325,
          430.855,
          418.49,
          416.12,
          417.14,
          422.36,
          415.17,
          422.18,
          417.77,
          416.135,
          415.225,
          415.86,
          410.9,
          416,
          418.24,
          417.63,
          422.58,
          428.45,
          428.21,
          431.52,
          435.085,
          429.83,
          433,
          434.28,
          437.22,
          441.225,
          435,
          440.23,
          430.6,
          425.825,
          423.31,
          415.5,
          408.2,
          407.24,
          409.06,
          407.62,
          405.91,
          417.91,
          415.6,
          414.94,
          414.88,
          412.86,
          416.365,
          416.98,
          424.36,
          424.075,
          421.7,
          418.96,
          420.6,
          419.8,
          414.8,
          409.59,
          407.06,
          404.03,
          402.44,
          408.635,
          400,
          389.17,
          412.49,
          420.785,
          420.495,
          427.72,
          431.58,
          418.2,
          428.8,
          440.45,
          443.895,
          441.79,
          433.1,
          444.34,
          442.59,
          454.22,
          453.3,
          454.325,
          462.98,
          461.22,
          467,
          466.55,
          459.61,
          458.19,
          453.2,
          448.66,
          453.07,
          452.175,
          449
         ],
         "type": "candlestick",
         "x": [
          "2024-11-14T00:00:00",
          "2024-11-13T00:00:00",
          "2024-11-12T00:00:00",
          "2024-11-11T00:00:00",
          "2024-11-08T00:00:00",
          "2024-11-07T00:00:00",
          "2024-11-06T00:00:00",
          "2024-11-05T00:00:00",
          "2024-11-04T00:00:00",
          "2024-11-01T00:00:00",
          "2024-10-31T00:00:00",
          "2024-10-30T00:00:00",
          "2024-10-29T00:00:00",
          "2024-10-28T00:00:00",
          "2024-10-25T00:00:00",
          "2024-10-24T00:00:00",
          "2024-10-23T00:00:00",
          "2024-10-22T00:00:00",
          "2024-10-21T00:00:00",
          "2024-10-18T00:00:00",
          "2024-10-17T00:00:00",
          "2024-10-16T00:00:00",
          "2024-10-15T00:00:00",
          "2024-10-14T00:00:00",
          "2024-10-11T00:00:00",
          "2024-10-10T00:00:00",
          "2024-10-09T00:00:00",
          "2024-10-08T00:00:00",
          "2024-10-07T00:00:00",
          "2024-10-04T00:00:00",
          "2024-10-03T00:00:00",
          "2024-10-02T00:00:00",
          "2024-10-01T00:00:00",
          "2024-09-30T00:00:00",
          "2024-09-27T00:00:00",
          "2024-09-26T00:00:00",
          "2024-09-25T00:00:00",
          "2024-09-24T00:00:00",
          "2024-09-23T00:00:00",
          "2024-09-20T00:00:00",
          "2024-09-19T00:00:00",
          "2024-09-18T00:00:00",
          "2024-09-17T00:00:00",
          "2024-09-16T00:00:00",
          "2024-09-13T00:00:00",
          "2024-09-12T00:00:00",
          "2024-09-11T00:00:00",
          "2024-09-10T00:00:00",
          "2024-09-09T00:00:00",
          "2024-09-06T00:00:00",
          "2024-09-05T00:00:00",
          "2024-09-04T00:00:00",
          "2024-09-03T00:00:00",
          "2024-08-30T00:00:00",
          "2024-08-29T00:00:00",
          "2024-08-28T00:00:00",
          "2024-08-27T00:00:00",
          "2024-08-26T00:00:00",
          "2024-08-23T00:00:00",
          "2024-08-22T00:00:00",
          "2024-08-21T00:00:00",
          "2024-08-20T00:00:00",
          "2024-08-19T00:00:00",
          "2024-08-16T00:00:00",
          "2024-08-15T00:00:00",
          "2024-08-14T00:00:00",
          "2024-08-13T00:00:00",
          "2024-08-12T00:00:00",
          "2024-08-09T00:00:00",
          "2024-08-08T00:00:00",
          "2024-08-07T00:00:00",
          "2024-08-06T00:00:00",
          "2024-08-05T00:00:00",
          "2024-08-02T00:00:00",
          "2024-08-01T00:00:00",
          "2024-07-31T00:00:00",
          "2024-07-30T00:00:00",
          "2024-07-29T00:00:00",
          "2024-07-26T00:00:00",
          "2024-07-25T00:00:00",
          "2024-07-24T00:00:00",
          "2024-07-23T00:00:00",
          "2024-07-22T00:00:00",
          "2024-07-19T00:00:00",
          "2024-07-18T00:00:00",
          "2024-07-17T00:00:00",
          "2024-07-16T00:00:00",
          "2024-07-15T00:00:00",
          "2024-07-12T00:00:00",
          "2024-07-11T00:00:00",
          "2024-07-10T00:00:00",
          "2024-07-09T00:00:00",
          "2024-07-08T00:00:00",
          "2024-07-05T00:00:00",
          "2024-07-03T00:00:00",
          "2024-07-02T00:00:00",
          "2024-07-01T00:00:00",
          "2024-06-28T00:00:00",
          "2024-06-27T00:00:00",
          "2024-06-26T00:00:00"
         ]
        }
       ],
       "layout": {
        "height": 800,
        "template": {
         "data": {
          "bar": [
           {
            "error_x": {
             "color": "#2a3f5f"
            },
            "error_y": {
             "color": "#2a3f5f"
            },
            "marker": {
             "line": {
              "color": "#E5ECF6",
              "width": 0.5
             },
             "pattern": {
              "fillmode": "overlay",
              "size": 10,
              "solidity": 0.2
             }
            },
            "type": "bar"
           }
          ],
          "barpolar": [
           {
            "marker": {
             "line": {
              "color": "#E5ECF6",
              "width": 0.5
             },
             "pattern": {
              "fillmode": "overlay",
              "size": 10,
              "solidity": 0.2
             }
            },
            "type": "barpolar"
           }
          ],
          "carpet": [
           {
            "aaxis": {
             "endlinecolor": "#2a3f5f",
             "gridcolor": "white",
             "linecolor": "white",
             "minorgridcolor": "white",
             "startlinecolor": "#2a3f5f"
            },
            "baxis": {
             "endlinecolor": "#2a3f5f",
             "gridcolor": "white",
             "linecolor": "white",
             "minorgridcolor": "white",
             "startlinecolor": "#2a3f5f"
            },
            "type": "carpet"
           }
          ],
          "choropleth": [
           {
            "colorbar": {
             "outlinewidth": 0,
             "ticks": ""
            },
            "type": "choropleth"
           }
          ],
          "contour": [
           {
            "colorbar": {
             "outlinewidth": 0,
             "ticks": ""
            },
            "colorscale": [
             [
              0,
              "#0d0887"
             ],
             [
              0.1111111111111111,
              "#46039f"
             ],
             [
              0.2222222222222222,
              "#7201a8"
             ],
             [
              0.3333333333333333,
              "#9c179e"
             ],
             [
              0.4444444444444444,
              "#bd3786"
             ],
             [
              0.5555555555555556,
              "#d8576b"
             ],
             [
              0.6666666666666666,
              "#ed7953"
             ],
             [
              0.7777777777777778,
              "#fb9f3a"
             ],
             [
              0.8888888888888888,
              "#fdca26"
             ],
             [
              1,
              "#f0f921"
             ]
            ],
            "type": "contour"
           }
          ],
          "contourcarpet": [
           {
            "colorbar": {
             "outlinewidth": 0,
             "ticks": ""
            },
            "type": "contourcarpet"
           }
          ],
          "heatmap": [
           {
            "colorbar": {
             "outlinewidth": 0,
             "ticks": ""
            },
            "colorscale": [
             [
              0,
              "#0d0887"
             ],
             [
              0.1111111111111111,
              "#46039f"
             ],
             [
              0.2222222222222222,
              "#7201a8"
             ],
             [
              0.3333333333333333,
              "#9c179e"
             ],
             [
              0.4444444444444444,
              "#bd3786"
             ],
             [
              0.5555555555555556,
              "#d8576b"
             ],
             [
              0.6666666666666666,
              "#ed7953"
             ],
             [
              0.7777777777777778,
              "#fb9f3a"
             ],
             [
              0.8888888888888888,
              "#fdca26"
             ],
             [
              1,
              "#f0f921"
             ]
            ],
            "type": "heatmap"
           }
          ],
          "heatmapgl": [
           {
            "colorbar": {
             "outlinewidth": 0,
             "ticks": ""
            },
            "colorscale": [
             [
              0,
              "#0d0887"
             ],
             [
              0.1111111111111111,
              "#46039f"
             ],
             [
              0.2222222222222222,
              "#7201a8"
             ],
             [
              0.3333333333333333,
              "#9c179e"
             ],
             [
              0.4444444444444444,
              "#bd3786"
             ],
             [
              0.5555555555555556,
              "#d8576b"
             ],
             [
              0.6666666666666666,
              "#ed7953"
             ],
             [
              0.7777777777777778,
              "#fb9f3a"
             ],
             [
              0.8888888888888888,
              "#fdca26"
             ],
             [
              1,
              "#f0f921"
             ]
            ],
            "type": "heatmapgl"
           }
          ],
          "histogram": [
           {
            "marker": {
             "pattern": {
              "fillmode": "overlay",
              "size": 10,
              "solidity": 0.2
             }
            },
            "type": "histogram"
           }
          ],
          "histogram2d": [
           {
            "colorbar": {
             "outlinewidth": 0,
             "ticks": ""
            },
            "colorscale": [
             [
              0,
              "#0d0887"
             ],
             [
              0.1111111111111111,
              "#46039f"
             ],
             [
              0.2222222222222222,
              "#7201a8"
             ],
             [
              0.3333333333333333,
              "#9c179e"
             ],
             [
              0.4444444444444444,
              "#bd3786"
             ],
             [
              0.5555555555555556,
              "#d8576b"
             ],
             [
              0.6666666666666666,
              "#ed7953"
             ],
             [
              0.7777777777777778,
              "#fb9f3a"
             ],
             [
              0.8888888888888888,
              "#fdca26"
             ],
             [
              1,
              "#f0f921"
             ]
            ],
            "type": "histogram2d"
           }
          ],
          "histogram2dcontour": [
           {
            "colorbar": {
             "outlinewidth": 0,
             "ticks": ""
            },
            "colorscale": [
             [
              0,
              "#0d0887"
             ],
             [
              0.1111111111111111,
              "#46039f"
             ],
             [
              0.2222222222222222,
              "#7201a8"
             ],
             [
              0.3333333333333333,
              "#9c179e"
             ],
             [
              0.4444444444444444,
              "#bd3786"
             ],
             [
              0.5555555555555556,
              "#d8576b"
             ],
             [
              0.6666666666666666,
              "#ed7953"
             ],
             [
              0.7777777777777778,
              "#fb9f3a"
             ],
             [
              0.8888888888888888,
              "#fdca26"
             ],
             [
              1,
              "#f0f921"
             ]
            ],
            "type": "histogram2dcontour"
           }
          ],
          "mesh3d": [
           {
            "colorbar": {
             "outlinewidth": 0,
             "ticks": ""
            },
            "type": "mesh3d"
           }
          ],
          "parcoords": [
           {
            "line": {
             "colorbar": {
              "outlinewidth": 0,
              "ticks": ""
             }
            },
            "type": "parcoords"
           }
          ],
          "pie": [
           {
            "automargin": true,
            "type": "pie"
           }
          ],
          "scatter": [
           {
            "fillpattern": {
             "fillmode": "overlay",
             "size": 10,
             "solidity": 0.2
            },
            "type": "scatter"
           }
          ],
          "scatter3d": [
           {
            "line": {
             "colorbar": {
              "outlinewidth": 0,
              "ticks": ""
             }
            },
            "marker": {
             "colorbar": {
              "outlinewidth": 0,
              "ticks": ""
             }
            },
            "type": "scatter3d"
           }
          ],
          "scattercarpet": [
           {
            "marker": {
             "colorbar": {
              "outlinewidth": 0,
              "ticks": ""
             }
            },
            "type": "scattercarpet"
           }
          ],
          "scattergeo": [
           {
            "marker": {
             "colorbar": {
              "outlinewidth": 0,
              "ticks": ""
             }
            },
            "type": "scattergeo"
           }
          ],
          "scattergl": [
           {
            "marker": {
             "colorbar": {
              "outlinewidth": 0,
              "ticks": ""
             }
            },
            "type": "scattergl"
           }
          ],
          "scattermapbox": [
           {
            "marker": {
             "colorbar": {
              "outlinewidth": 0,
              "ticks": ""
             }
            },
            "type": "scattermapbox"
           }
          ],
          "scatterpolar": [
           {
            "marker": {
             "colorbar": {
              "outlinewidth": 0,
              "ticks": ""
             }
            },
            "type": "scatterpolar"
           }
          ],
          "scatterpolargl": [
           {
            "marker": {
             "colorbar": {
              "outlinewidth": 0,
              "ticks": ""
             }
            },
            "type": "scatterpolargl"
           }
          ],
          "scatterternary": [
           {
            "marker": {
             "colorbar": {
              "outlinewidth": 0,
              "ticks": ""
             }
            },
            "type": "scatterternary"
           }
          ],
          "surface": [
           {
            "colorbar": {
             "outlinewidth": 0,
             "ticks": ""
            },
            "colorscale": [
             [
              0,
              "#0d0887"
             ],
             [
              0.1111111111111111,
              "#46039f"
             ],
             [
              0.2222222222222222,
              "#7201a8"
             ],
             [
              0.3333333333333333,
              "#9c179e"
             ],
             [
              0.4444444444444444,
              "#bd3786"
             ],
             [
              0.5555555555555556,
              "#d8576b"
             ],
             [
              0.6666666666666666,
              "#ed7953"
             ],
             [
              0.7777777777777778,
              "#fb9f3a"
             ],
             [
              0.8888888888888888,
              "#fdca26"
             ],
             [
              1,
              "#f0f921"
             ]
            ],
            "type": "surface"
           }
          ],
          "table": [
           {
            "cells": {
             "fill": {
              "color": "#EBF0F8"
             },
             "line": {
              "color": "white"
             }
            },
            "header": {
             "fill": {
              "color": "#C8D4E3"
             },
             "line": {
              "color": "white"
             }
            },
            "type": "table"
           }
          ]
         },
         "layout": {
          "annotationdefaults": {
           "arrowcolor": "#2a3f5f",
           "arrowhead": 0,
           "arrowwidth": 1
          },
          "autotypenumbers": "strict",
          "coloraxis": {
           "colorbar": {
            "outlinewidth": 0,
            "ticks": ""
           }
          },
          "colorscale": {
           "diverging": [
            [
             0,
             "#8e0152"
            ],
            [
             0.1,
             "#c51b7d"
            ],
            [
             0.2,
             "#de77ae"
            ],
            [
             0.3,
             "#f1b6da"
            ],
            [
             0.4,
             "#fde0ef"
            ],
            [
             0.5,
             "#f7f7f7"
            ],
            [
             0.6,
             "#e6f5d0"
            ],
            [
             0.7,
             "#b8e186"
            ],
            [
             0.8,
             "#7fbc41"
            ],
            [
             0.9,
             "#4d9221"
            ],
            [
             1,
             "#276419"
            ]
           ],
           "sequential": [
            [
             0,
             "#0d0887"
            ],
            [
             0.1111111111111111,
             "#46039f"
            ],
            [
             0.2222222222222222,
             "#7201a8"
            ],
            [
             0.3333333333333333,
             "#9c179e"
            ],
            [
             0.4444444444444444,
             "#bd3786"
            ],
            [
             0.5555555555555556,
             "#d8576b"
            ],
            [
             0.6666666666666666,
             "#ed7953"
            ],
            [
             0.7777777777777778,
             "#fb9f3a"
            ],
            [
             0.8888888888888888,
             "#fdca26"
            ],
            [
             1,
             "#f0f921"
            ]
           ],
           "sequentialminus": [
            [
             0,
             "#0d0887"
            ],
            [
             0.1111111111111111,
             "#46039f"
            ],
            [
             0.2222222222222222,
             "#7201a8"
            ],
            [
             0.3333333333333333,
             "#9c179e"
            ],
            [
             0.4444444444444444,
             "#bd3786"
            ],
            [
             0.5555555555555556,
             "#d8576b"
            ],
            [
             0.6666666666666666,
             "#ed7953"
            ],
            [
             0.7777777777777778,
             "#fb9f3a"
            ],
            [
             0.8888888888888888,
             "#fdca26"
            ],
            [
             1,
             "#f0f921"
            ]
           ]
          },
          "colorway": [
           "#636efa",
           "#EF553B",
           "#00cc96",
           "#ab63fa",
           "#FFA15A",
           "#19d3f3",
           "#FF6692",
           "#B6E880",
           "#FF97FF",
           "#FECB52"
          ],
          "font": {
           "color": "#2a3f5f"
          },
          "geo": {
           "bgcolor": "white",
           "lakecolor": "white",
           "landcolor": "#E5ECF6",
           "showlakes": true,
           "showland": true,
           "subunitcolor": "white"
          },
          "hoverlabel": {
           "align": "left"
          },
          "hovermode": "closest",
          "mapbox": {
           "style": "light"
          },
          "paper_bgcolor": "white",
          "plot_bgcolor": "#E5ECF6",
          "polar": {
           "angularaxis": {
            "gridcolor": "white",
            "linecolor": "white",
            "ticks": ""
           },
           "bgcolor": "#E5ECF6",
           "radialaxis": {
            "gridcolor": "white",
            "linecolor": "white",
            "ticks": ""
           }
          },
          "scene": {
           "xaxis": {
            "backgroundcolor": "#E5ECF6",
            "gridcolor": "white",
            "gridwidth": 2,
            "linecolor": "white",
            "showbackground": true,
            "ticks": "",
            "zerolinecolor": "white"
           },
           "yaxis": {
            "backgroundcolor": "#E5ECF6",
            "gridcolor": "white",
            "gridwidth": 2,
            "linecolor": "white",
            "showbackground": true,
            "ticks": "",
            "zerolinecolor": "white"
           },
           "zaxis": {
            "backgroundcolor": "#E5ECF6",
            "gridcolor": "white",
            "gridwidth": 2,
            "linecolor": "white",
            "showbackground": true,
            "ticks": "",
            "zerolinecolor": "white"
           }
          },
          "shapedefaults": {
           "line": {
            "color": "#2a3f5f"
           }
          },
          "ternary": {
           "aaxis": {
            "gridcolor": "white",
            "linecolor": "white",
            "ticks": ""
           },
           "baxis": {
            "gridcolor": "white",
            "linecolor": "white",
            "ticks": ""
           },
           "bgcolor": "#E5ECF6",
           "caxis": {
            "gridcolor": "white",
            "linecolor": "white",
            "ticks": ""
           }
          },
          "title": {
           "x": 0.05
          },
          "xaxis": {
           "automargin": true,
           "gridcolor": "white",
           "linecolor": "white",
           "ticks": "",
           "title": {
            "standoff": 15
           },
           "zerolinecolor": "white",
           "zerolinewidth": 2
          },
          "yaxis": {
           "automargin": true,
           "gridcolor": "white",
           "linecolor": "white",
           "ticks": "",
           "title": {
            "standoff": 15
           },
           "zerolinecolor": "white",
           "zerolinewidth": 2
          }
         }
        },
        "width": 1200
       }
      }
     },
     "metadata": {},
     "output_type": "display_data"
    }
   ],
   "source": [
    "class StockFetch:\n",
    "\n",
    "    def __init__(self,api_key) -> None:\n",
    "        self.api_key = api_key\n",
    "        self.url = \"https://alpha-vantage.p.rapidapi.com/query\"\n",
    "        self.headers = {\n",
    "\t         \"x-rapidapi-key\": self.api_key,\n",
    "\t         \"x-rapidapi-host\": \"alpha-vantage.p.rapidapi.com\"\n",
    "        }\n",
    "        \n",
    "    def get_stock_symbol(self,company):\n",
    "        querystring = {\"datatype\":\"json\",\n",
    "                       \"keywords\":company,\n",
    "                       \"function\":\"SYMBOL_SEARCH\"}\n",
    "        response = requests.get(self.url,headers=self.headers,params=querystring)\n",
    "        response.raise_for_status()\n",
    "        data = response.json()[\"bestMatches\"]\n",
    "        symbols = pd.DataFrame(data)\n",
    "        return symbols\n",
    "    \n",
    "    def stock_prices(self,symbol):\n",
    "        querystring = {\n",
    "            \"function\":\"TIME_SERIES_DAILY\",\n",
    "            \"symbol\":\"MSFT\",\n",
    "            \"outputsize\":\"compact\",\n",
    "            \"datatype\":\"json\"\n",
    "            }\n",
    "        response = requests.get(self.url, headers= headers, params=querystring)\n",
    "        response.raise_for_status()\n",
    "        data = response.json()[\"Time Series (Daily)\"]\n",
    "        prices = pd.DataFrame(data).T\n",
    "        prices = prices.astype(float)\n",
    "        prices.index = pd.to_datetime(prices.index)\n",
    "        return prices\n",
    "    \n",
    "    def candlestick_chart(self,prices):\n",
    "        chart = go.Figure(\n",
    "    data = [\n",
    "        go.Candlestick(\n",
    "            x = df2.index,\n",
    "            open = df2[\"1. open\"],\n",
    "            high = df2[\"2. high\"],\n",
    "            low = df2[\"3. low\"],\n",
    "            close = df2[\"4. close\"]\n",
    "        )\n",
    "\n",
    "    ]\n",
    ")\n",
    "\n",
    "chart.update_layout(width = 1200, height = 800)\n",
    "\n",
    "chart.show()\n",
    "        \n",
    "        \n",
    "\n",
    "        \n",
    "\n",
    "\n"
   ]
  },
  {
   "cell_type": "code",
   "execution_count": 31,
   "metadata": {},
   "outputs": [
    {
     "data": {
      "text/plain": [
       "<__main__.StockFetch at 0x1bca8ccddf0>"
      ]
     },
     "execution_count": 31,
     "metadata": {},
     "output_type": "execute_result"
    }
   ],
   "source": [
    "client = StockFetch(api_key= os.getenv(\"API_KEY\"))\n",
    "client"
   ]
  },
  {
   "cell_type": "code",
   "execution_count": 32,
   "metadata": {},
   "outputs": [
    {
     "data": {
      "text/plain": [
       "__main__.StockFetch"
      ]
     },
     "execution_count": 32,
     "metadata": {},
     "output_type": "execute_result"
    }
   ],
   "source": [
    "type(client)"
   ]
  },
  {
   "cell_type": "code",
   "execution_count": 33,
   "metadata": {},
   "outputs": [
    {
     "data": {
      "text/html": [
       "<div>\n",
       "<style scoped>\n",
       "    .dataframe tbody tr th:only-of-type {\n",
       "        vertical-align: middle;\n",
       "    }\n",
       "\n",
       "    .dataframe tbody tr th {\n",
       "        vertical-align: top;\n",
       "    }\n",
       "\n",
       "    .dataframe thead th {\n",
       "        text-align: right;\n",
       "    }\n",
       "</style>\n",
       "<table border=\"1\" class=\"dataframe\">\n",
       "  <thead>\n",
       "    <tr style=\"text-align: right;\">\n",
       "      <th></th>\n",
       "      <th>1. symbol</th>\n",
       "      <th>2. name</th>\n",
       "      <th>3. type</th>\n",
       "      <th>4. region</th>\n",
       "      <th>5. marketOpen</th>\n",
       "      <th>6. marketClose</th>\n",
       "      <th>7. timezone</th>\n",
       "      <th>8. currency</th>\n",
       "      <th>9. matchScore</th>\n",
       "    </tr>\n",
       "  </thead>\n",
       "  <tbody>\n",
       "    <tr>\n",
       "      <th>0</th>\n",
       "      <td>HDB</td>\n",
       "      <td>HDFC Bank Ltd</td>\n",
       "      <td>Equity</td>\n",
       "      <td>United States</td>\n",
       "      <td>09:30</td>\n",
       "      <td>16:00</td>\n",
       "      <td>UTC-04</td>\n",
       "      <td>USD</td>\n",
       "      <td>0.8182</td>\n",
       "    </tr>\n",
       "    <tr>\n",
       "      <th>1</th>\n",
       "      <td>HDFCBANK.BSE</td>\n",
       "      <td>HDFC Bank Limited</td>\n",
       "      <td>Equity</td>\n",
       "      <td>India/Bombay</td>\n",
       "      <td>09:15</td>\n",
       "      <td>15:30</td>\n",
       "      <td>UTC+5.5</td>\n",
       "      <td>INR</td>\n",
       "      <td>0.8000</td>\n",
       "    </tr>\n",
       "    <tr>\n",
       "      <th>2</th>\n",
       "      <td>H1DB34.SAO</td>\n",
       "      <td>HDFC Bank Limited</td>\n",
       "      <td>Equity</td>\n",
       "      <td>Brazil/Sao Paolo</td>\n",
       "      <td>10:00</td>\n",
       "      <td>17:30</td>\n",
       "      <td>UTC-03</td>\n",
       "      <td>BRL</td>\n",
       "      <td>0.6923</td>\n",
       "    </tr>\n",
       "    <tr>\n",
       "      <th>3</th>\n",
       "      <td>HDFA.FRK</td>\n",
       "      <td>HDFC Bank Limited</td>\n",
       "      <td>Equity</td>\n",
       "      <td>Frankfurt</td>\n",
       "      <td>08:00</td>\n",
       "      <td>20:00</td>\n",
       "      <td>UTC+02</td>\n",
       "      <td>EUR</td>\n",
       "      <td>0.6923</td>\n",
       "    </tr>\n",
       "  </tbody>\n",
       "</table>\n",
       "</div>"
      ],
      "text/plain": [
       "      1. symbol            2. name 3. type         4. region 5. marketOpen  \\\n",
       "0           HDB      HDFC Bank Ltd  Equity     United States         09:30   \n",
       "1  HDFCBANK.BSE  HDFC Bank Limited  Equity      India/Bombay         09:15   \n",
       "2    H1DB34.SAO  HDFC Bank Limited  Equity  Brazil/Sao Paolo         10:00   \n",
       "3      HDFA.FRK  HDFC Bank Limited  Equity         Frankfurt         08:00   \n",
       "\n",
       "  6. marketClose 7. timezone 8. currency 9. matchScore  \n",
       "0          16:00      UTC-04         USD        0.8182  \n",
       "1          15:30     UTC+5.5         INR        0.8000  \n",
       "2          17:30      UTC-03         BRL        0.6923  \n",
       "3          20:00      UTC+02         EUR        0.6923  "
      ]
     },
     "execution_count": 33,
     "metadata": {},
     "output_type": "execute_result"
    }
   ],
   "source": [
    "client.get_stock_symbol(\"HDFC Bank\")"
   ]
  },
  {
   "cell_type": "code",
   "execution_count": 34,
   "metadata": {},
   "outputs": [
    {
     "data": {
      "text/html": [
       "<div>\n",
       "<style scoped>\n",
       "    .dataframe tbody tr th:only-of-type {\n",
       "        vertical-align: middle;\n",
       "    }\n",
       "\n",
       "    .dataframe tbody tr th {\n",
       "        vertical-align: top;\n",
       "    }\n",
       "\n",
       "    .dataframe thead th {\n",
       "        text-align: right;\n",
       "    }\n",
       "</style>\n",
       "<table border=\"1\" class=\"dataframe\">\n",
       "  <thead>\n",
       "    <tr style=\"text-align: right;\">\n",
       "      <th></th>\n",
       "      <th>1. open</th>\n",
       "      <th>2. high</th>\n",
       "      <th>3. low</th>\n",
       "      <th>4. close</th>\n",
       "      <th>5. volume</th>\n",
       "    </tr>\n",
       "  </thead>\n",
       "  <tbody>\n",
       "    <tr>\n",
       "      <th>2024-11-14</th>\n",
       "      <td>425.000</td>\n",
       "      <td>428.170</td>\n",
       "      <td>420.000</td>\n",
       "      <td>426.89</td>\n",
       "      <td>30246881.0</td>\n",
       "    </tr>\n",
       "    <tr>\n",
       "      <th>2024-11-13</th>\n",
       "      <td>421.640</td>\n",
       "      <td>429.325</td>\n",
       "      <td>418.210</td>\n",
       "      <td>425.20</td>\n",
       "      <td>21502185.0</td>\n",
       "    </tr>\n",
       "    <tr>\n",
       "      <th>2024-11-12</th>\n",
       "      <td>418.250</td>\n",
       "      <td>424.440</td>\n",
       "      <td>417.200</td>\n",
       "      <td>423.03</td>\n",
       "      <td>19401204.0</td>\n",
       "    </tr>\n",
       "    <tr>\n",
       "      <th>2024-11-11</th>\n",
       "      <td>422.515</td>\n",
       "      <td>424.810</td>\n",
       "      <td>416.000</td>\n",
       "      <td>418.01</td>\n",
       "      <td>24503321.0</td>\n",
       "    </tr>\n",
       "    <tr>\n",
       "      <th>2024-11-08</th>\n",
       "      <td>425.320</td>\n",
       "      <td>426.500</td>\n",
       "      <td>421.780</td>\n",
       "      <td>422.54</td>\n",
       "      <td>16891414.0</td>\n",
       "    </tr>\n",
       "    <tr>\n",
       "      <th>...</th>\n",
       "      <td>...</td>\n",
       "      <td>...</td>\n",
       "      <td>...</td>\n",
       "      <td>...</td>\n",
       "      <td>...</td>\n",
       "    </tr>\n",
       "    <tr>\n",
       "      <th>2024-07-02</th>\n",
       "      <td>453.200</td>\n",
       "      <td>459.590</td>\n",
       "      <td>453.113</td>\n",
       "      <td>459.28</td>\n",
       "      <td>13979779.0</td>\n",
       "    </tr>\n",
       "    <tr>\n",
       "      <th>2024-07-01</th>\n",
       "      <td>448.660</td>\n",
       "      <td>457.370</td>\n",
       "      <td>445.660</td>\n",
       "      <td>456.73</td>\n",
       "      <td>17662818.0</td>\n",
       "    </tr>\n",
       "    <tr>\n",
       "      <th>2024-06-28</th>\n",
       "      <td>453.070</td>\n",
       "      <td>455.380</td>\n",
       "      <td>446.410</td>\n",
       "      <td>446.95</td>\n",
       "      <td>28362271.0</td>\n",
       "    </tr>\n",
       "    <tr>\n",
       "      <th>2024-06-27</th>\n",
       "      <td>452.175</td>\n",
       "      <td>456.170</td>\n",
       "      <td>451.770</td>\n",
       "      <td>452.85</td>\n",
       "      <td>14806324.0</td>\n",
       "    </tr>\n",
       "    <tr>\n",
       "      <th>2024-06-26</th>\n",
       "      <td>449.000</td>\n",
       "      <td>453.600</td>\n",
       "      <td>448.190</td>\n",
       "      <td>452.16</td>\n",
       "      <td>16507030.0</td>\n",
       "    </tr>\n",
       "  </tbody>\n",
       "</table>\n",
       "<p>100 rows × 5 columns</p>\n",
       "</div>"
      ],
      "text/plain": [
       "            1. open  2. high   3. low  4. close   5. volume\n",
       "2024-11-14  425.000  428.170  420.000    426.89  30246881.0\n",
       "2024-11-13  421.640  429.325  418.210    425.20  21502185.0\n",
       "2024-11-12  418.250  424.440  417.200    423.03  19401204.0\n",
       "2024-11-11  422.515  424.810  416.000    418.01  24503321.0\n",
       "2024-11-08  425.320  426.500  421.780    422.54  16891414.0\n",
       "...             ...      ...      ...       ...         ...\n",
       "2024-07-02  453.200  459.590  453.113    459.28  13979779.0\n",
       "2024-07-01  448.660  457.370  445.660    456.73  17662818.0\n",
       "2024-06-28  453.070  455.380  446.410    446.95  28362271.0\n",
       "2024-06-27  452.175  456.170  451.770    452.85  14806324.0\n",
       "2024-06-26  449.000  453.600  448.190    452.16  16507030.0\n",
       "\n",
       "[100 rows x 5 columns]"
      ]
     },
     "execution_count": 34,
     "metadata": {},
     "output_type": "execute_result"
    }
   ],
   "source": [
    "prices = client.stock_prices(symbol= \"HDFCBANK.BSE\")\n",
    "prices"
   ]
  },
  {
   "cell_type": "code",
   "execution_count": 35,
   "metadata": {},
   "outputs": [],
   "source": [
    "prices.to_csv(\"HDFCBank.csv\")"
   ]
  },
  {
   "cell_type": "code",
   "execution_count": 36,
   "metadata": {},
   "outputs": [
    {
     "data": {
      "text/html": [
       "<div>\n",
       "<style scoped>\n",
       "    .dataframe tbody tr th:only-of-type {\n",
       "        vertical-align: middle;\n",
       "    }\n",
       "\n",
       "    .dataframe tbody tr th {\n",
       "        vertical-align: top;\n",
       "    }\n",
       "\n",
       "    .dataframe thead th {\n",
       "        text-align: right;\n",
       "    }\n",
       "</style>\n",
       "<table border=\"1\" class=\"dataframe\">\n",
       "  <thead>\n",
       "    <tr style=\"text-align: right;\">\n",
       "      <th></th>\n",
       "      <th>1. symbol</th>\n",
       "      <th>2. name</th>\n",
       "      <th>3. type</th>\n",
       "      <th>4. region</th>\n",
       "      <th>5. marketOpen</th>\n",
       "      <th>6. marketClose</th>\n",
       "      <th>7. timezone</th>\n",
       "      <th>8. currency</th>\n",
       "      <th>9. matchScore</th>\n",
       "    </tr>\n",
       "  </thead>\n",
       "  <tbody>\n",
       "    <tr>\n",
       "      <th>0</th>\n",
       "      <td>ADANIENT.BSE</td>\n",
       "      <td>Adani Enterprises Limited</td>\n",
       "      <td>Equity</td>\n",
       "      <td>India/Bombay</td>\n",
       "      <td>09:15</td>\n",
       "      <td>15:30</td>\n",
       "      <td>UTC+5.5</td>\n",
       "      <td>INR</td>\n",
       "      <td>0.6250</td>\n",
       "    </tr>\n",
       "    <tr>\n",
       "      <th>1</th>\n",
       "      <td>ADANIENSOL.BSE</td>\n",
       "      <td>Adani Energy Solutions Limited</td>\n",
       "      <td>Equity</td>\n",
       "      <td>India/Bombay</td>\n",
       "      <td>09:15</td>\n",
       "      <td>15:30</td>\n",
       "      <td>UTC+5.5</td>\n",
       "      <td>INR</td>\n",
       "      <td>0.5556</td>\n",
       "    </tr>\n",
       "    <tr>\n",
       "      <th>2</th>\n",
       "      <td>ADANIGREEN.BSE</td>\n",
       "      <td>Adani Green Energy Ltd</td>\n",
       "      <td>Equity</td>\n",
       "      <td>India/Bombay</td>\n",
       "      <td>09:15</td>\n",
       "      <td>15:30</td>\n",
       "      <td>UTC+5.5</td>\n",
       "      <td>INR</td>\n",
       "      <td>0.5556</td>\n",
       "    </tr>\n",
       "    <tr>\n",
       "      <th>3</th>\n",
       "      <td>ADANIPORTS.BSE</td>\n",
       "      <td>ADANI PORTS AND SPECIAL ECONOMIC ZONE LTD.</td>\n",
       "      <td>Equity</td>\n",
       "      <td>India/Bombay</td>\n",
       "      <td>09:15</td>\n",
       "      <td>15:30</td>\n",
       "      <td>UTC+5.5</td>\n",
       "      <td>INR</td>\n",
       "      <td>0.5556</td>\n",
       "    </tr>\n",
       "    <tr>\n",
       "      <th>4</th>\n",
       "      <td>ADANIPOWER.BSE</td>\n",
       "      <td>Adani Power Limited</td>\n",
       "      <td>Equity</td>\n",
       "      <td>India/Bombay</td>\n",
       "      <td>09:15</td>\n",
       "      <td>15:30</td>\n",
       "      <td>UTC+5.5</td>\n",
       "      <td>INR</td>\n",
       "      <td>0.5556</td>\n",
       "    </tr>\n",
       "    <tr>\n",
       "      <th>5</th>\n",
       "      <td>AWL.BSE</td>\n",
       "      <td>Adani Wilmar Ltd</td>\n",
       "      <td>Equity</td>\n",
       "      <td>India/Bombay</td>\n",
       "      <td>09:15</td>\n",
       "      <td>15:30</td>\n",
       "      <td>UTC+5.5</td>\n",
       "      <td>INR</td>\n",
       "      <td>0.4762</td>\n",
       "    </tr>\n",
       "    <tr>\n",
       "      <th>6</th>\n",
       "      <td>ATGL.BSE</td>\n",
       "      <td>Adani Total Gas Ltd</td>\n",
       "      <td>Equity</td>\n",
       "      <td>India/Bombay</td>\n",
       "      <td>09:15</td>\n",
       "      <td>15:30</td>\n",
       "      <td>UTC+5.5</td>\n",
       "      <td>INR</td>\n",
       "      <td>0.4167</td>\n",
       "    </tr>\n",
       "    <tr>\n",
       "      <th>7</th>\n",
       "      <td>541450.BSE</td>\n",
       "      <td>Adani Green Energy Limited</td>\n",
       "      <td>Equity</td>\n",
       "      <td>India/Bombay</td>\n",
       "      <td>09:15</td>\n",
       "      <td>15:30</td>\n",
       "      <td>UTC+5.5</td>\n",
       "      <td>INR</td>\n",
       "      <td>0.3226</td>\n",
       "    </tr>\n",
       "    <tr>\n",
       "      <th>8</th>\n",
       "      <td>532921.BSE</td>\n",
       "      <td>Adani Ports and Special Economic Zone Limited</td>\n",
       "      <td>Equity</td>\n",
       "      <td>India/Bombay</td>\n",
       "      <td>09:15</td>\n",
       "      <td>15:30</td>\n",
       "      <td>UTC+5.5</td>\n",
       "      <td>INR</td>\n",
       "      <td>0.2000</td>\n",
       "    </tr>\n",
       "  </tbody>\n",
       "</table>\n",
       "</div>"
      ],
      "text/plain": [
       "        1. symbol                                        2. name 3. type  \\\n",
       "0    ADANIENT.BSE                      Adani Enterprises Limited  Equity   \n",
       "1  ADANIENSOL.BSE                 Adani Energy Solutions Limited  Equity   \n",
       "2  ADANIGREEN.BSE                         Adani Green Energy Ltd  Equity   \n",
       "3  ADANIPORTS.BSE     ADANI PORTS AND SPECIAL ECONOMIC ZONE LTD.  Equity   \n",
       "4  ADANIPOWER.BSE                            Adani Power Limited  Equity   \n",
       "5         AWL.BSE                               Adani Wilmar Ltd  Equity   \n",
       "6        ATGL.BSE                            Adani Total Gas Ltd  Equity   \n",
       "7      541450.BSE                     Adani Green Energy Limited  Equity   \n",
       "8      532921.BSE  Adani Ports and Special Economic Zone Limited  Equity   \n",
       "\n",
       "      4. region 5. marketOpen 6. marketClose 7. timezone 8. currency  \\\n",
       "0  India/Bombay         09:15          15:30     UTC+5.5         INR   \n",
       "1  India/Bombay         09:15          15:30     UTC+5.5         INR   \n",
       "2  India/Bombay         09:15          15:30     UTC+5.5         INR   \n",
       "3  India/Bombay         09:15          15:30     UTC+5.5         INR   \n",
       "4  India/Bombay         09:15          15:30     UTC+5.5         INR   \n",
       "5  India/Bombay         09:15          15:30     UTC+5.5         INR   \n",
       "6  India/Bombay         09:15          15:30     UTC+5.5         INR   \n",
       "7  India/Bombay         09:15          15:30     UTC+5.5         INR   \n",
       "8  India/Bombay         09:15          15:30     UTC+5.5         INR   \n",
       "\n",
       "  9. matchScore  \n",
       "0        0.6250  \n",
       "1        0.5556  \n",
       "2        0.5556  \n",
       "3        0.5556  \n",
       "4        0.5556  \n",
       "5        0.4762  \n",
       "6        0.4167  \n",
       "7        0.3226  \n",
       "8        0.2000  "
      ]
     },
     "execution_count": 36,
     "metadata": {},
     "output_type": "execute_result"
    }
   ],
   "source": [
    "client.get_stock_symbol(company= \"Adani\")"
   ]
  },
  {
   "cell_type": "code",
   "execution_count": 37,
   "metadata": {},
   "outputs": [
    {
     "data": {
      "text/html": [
       "<div>\n",
       "<style scoped>\n",
       "    .dataframe tbody tr th:only-of-type {\n",
       "        vertical-align: middle;\n",
       "    }\n",
       "\n",
       "    .dataframe tbody tr th {\n",
       "        vertical-align: top;\n",
       "    }\n",
       "\n",
       "    .dataframe thead th {\n",
       "        text-align: right;\n",
       "    }\n",
       "</style>\n",
       "<table border=\"1\" class=\"dataframe\">\n",
       "  <thead>\n",
       "    <tr style=\"text-align: right;\">\n",
       "      <th></th>\n",
       "      <th>1. open</th>\n",
       "      <th>2. high</th>\n",
       "      <th>3. low</th>\n",
       "      <th>4. close</th>\n",
       "      <th>5. volume</th>\n",
       "    </tr>\n",
       "  </thead>\n",
       "  <tbody>\n",
       "    <tr>\n",
       "      <th>2024-11-14</th>\n",
       "      <td>425.000</td>\n",
       "      <td>428.170</td>\n",
       "      <td>420.000</td>\n",
       "      <td>426.89</td>\n",
       "      <td>30246881.0</td>\n",
       "    </tr>\n",
       "    <tr>\n",
       "      <th>2024-11-13</th>\n",
       "      <td>421.640</td>\n",
       "      <td>429.325</td>\n",
       "      <td>418.210</td>\n",
       "      <td>425.20</td>\n",
       "      <td>21502185.0</td>\n",
       "    </tr>\n",
       "    <tr>\n",
       "      <th>2024-11-12</th>\n",
       "      <td>418.250</td>\n",
       "      <td>424.440</td>\n",
       "      <td>417.200</td>\n",
       "      <td>423.03</td>\n",
       "      <td>19401204.0</td>\n",
       "    </tr>\n",
       "    <tr>\n",
       "      <th>2024-11-11</th>\n",
       "      <td>422.515</td>\n",
       "      <td>424.810</td>\n",
       "      <td>416.000</td>\n",
       "      <td>418.01</td>\n",
       "      <td>24503321.0</td>\n",
       "    </tr>\n",
       "    <tr>\n",
       "      <th>2024-11-08</th>\n",
       "      <td>425.320</td>\n",
       "      <td>426.500</td>\n",
       "      <td>421.780</td>\n",
       "      <td>422.54</td>\n",
       "      <td>16891414.0</td>\n",
       "    </tr>\n",
       "    <tr>\n",
       "      <th>...</th>\n",
       "      <td>...</td>\n",
       "      <td>...</td>\n",
       "      <td>...</td>\n",
       "      <td>...</td>\n",
       "      <td>...</td>\n",
       "    </tr>\n",
       "    <tr>\n",
       "      <th>2024-07-02</th>\n",
       "      <td>453.200</td>\n",
       "      <td>459.590</td>\n",
       "      <td>453.113</td>\n",
       "      <td>459.28</td>\n",
       "      <td>13979779.0</td>\n",
       "    </tr>\n",
       "    <tr>\n",
       "      <th>2024-07-01</th>\n",
       "      <td>448.660</td>\n",
       "      <td>457.370</td>\n",
       "      <td>445.660</td>\n",
       "      <td>456.73</td>\n",
       "      <td>17662818.0</td>\n",
       "    </tr>\n",
       "    <tr>\n",
       "      <th>2024-06-28</th>\n",
       "      <td>453.070</td>\n",
       "      <td>455.380</td>\n",
       "      <td>446.410</td>\n",
       "      <td>446.95</td>\n",
       "      <td>28362271.0</td>\n",
       "    </tr>\n",
       "    <tr>\n",
       "      <th>2024-06-27</th>\n",
       "      <td>452.175</td>\n",
       "      <td>456.170</td>\n",
       "      <td>451.770</td>\n",
       "      <td>452.85</td>\n",
       "      <td>14806324.0</td>\n",
       "    </tr>\n",
       "    <tr>\n",
       "      <th>2024-06-26</th>\n",
       "      <td>449.000</td>\n",
       "      <td>453.600</td>\n",
       "      <td>448.190</td>\n",
       "      <td>452.16</td>\n",
       "      <td>16507030.0</td>\n",
       "    </tr>\n",
       "  </tbody>\n",
       "</table>\n",
       "<p>100 rows × 5 columns</p>\n",
       "</div>"
      ],
      "text/plain": [
       "            1. open  2. high   3. low  4. close   5. volume\n",
       "2024-11-14  425.000  428.170  420.000    426.89  30246881.0\n",
       "2024-11-13  421.640  429.325  418.210    425.20  21502185.0\n",
       "2024-11-12  418.250  424.440  417.200    423.03  19401204.0\n",
       "2024-11-11  422.515  424.810  416.000    418.01  24503321.0\n",
       "2024-11-08  425.320  426.500  421.780    422.54  16891414.0\n",
       "...             ...      ...      ...       ...         ...\n",
       "2024-07-02  453.200  459.590  453.113    459.28  13979779.0\n",
       "2024-07-01  448.660  457.370  445.660    456.73  17662818.0\n",
       "2024-06-28  453.070  455.380  446.410    446.95  28362271.0\n",
       "2024-06-27  452.175  456.170  451.770    452.85  14806324.0\n",
       "2024-06-26  449.000  453.600  448.190    452.16  16507030.0\n",
       "\n",
       "[100 rows x 5 columns]"
      ]
     },
     "execution_count": 37,
     "metadata": {},
     "output_type": "execute_result"
    }
   ],
   "source": [
    "prices2 = client.stock_prices(symbol= \"ADANIPOWER.BSE\")\n",
    "prices2"
   ]
  },
  {
   "cell_type": "code",
   "execution_count": 38,
   "metadata": {},
   "outputs": [],
   "source": [
    "prices2.to_csv(\"AdaniPower.csv\")"
   ]
  },
  {
   "cell_type": "code",
   "execution_count": 39,
   "metadata": {},
   "outputs": [],
   "source": [
    "client.candlestick_chart(prices= prices2)"
   ]
  },
  {
   "cell_type": "code",
   "execution_count": null,
   "metadata": {},
   "outputs": [],
   "source": []
  }
 ],
 "metadata": {
  "kernelspec": {
   "display_name": "venv",
   "language": "python",
   "name": "python3"
  },
  "language_info": {
   "codemirror_mode": {
    "name": "ipython",
    "version": 3
   },
   "file_extension": ".py",
   "mimetype": "text/x-python",
   "name": "python",
   "nbconvert_exporter": "python",
   "pygments_lexer": "ipython3",
   "version": "3.12.7"
  }
 },
 "nbformat": 4,
 "nbformat_minor": 2
}
